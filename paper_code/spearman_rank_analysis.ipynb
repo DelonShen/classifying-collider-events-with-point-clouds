{
 "cells": [
  {
   "cell_type": "code",
   "execution_count": 1,
   "metadata": {},
   "outputs": [],
   "source": [
    "%load_ext autoreload\n",
    "%autoreload 2"
   ]
  },
  {
   "cell_type": "code",
   "execution_count": 2,
   "metadata": {},
   "outputs": [
    {
     "name": "stderr",
     "output_type": "stream",
     "text": [
      "ERROR in cling::CIFactory::createCI(): cannot extract standard library include paths!\n",
      "Invoking:\n",
      "  LC_ALL=C x86_64-conda-linux-gnu-c++  -O3 -DNDEBUG -xc++ -E -v /dev/null 2>&1 | sed -n -e '/^.include/,${' -e '/^ \\/.*++/p' -e '}'\n",
      "Results was:\n",
      "With exit code 0\n"
     ]
    },
    {
     "name": "stdout",
     "output_type": "stream",
     "text": [
      "Welcome to JupyROOT 6.22/08\n"
     ]
    },
    {
     "name": "stderr",
     "output_type": "stream",
     "text": [
      "2022-09-26 14:20:38.787686: W tensorflow/stream_executor/platform/default/dso_loader.cc:64] Could not load dynamic library 'libcudart.so.11.0'; dlerror: libcudart.so.11.0: cannot open shared object file: No such file or directory\n",
      "2022-09-26 14:20:38.787846: I tensorflow/stream_executor/cuda/cudart_stub.cc:29] Ignore above cudart dlerror if you do not have a GPU set up on your machine.\n"
     ]
    }
   ],
   "source": [
    "import sys\n",
    "sys.path.insert(1, '../')\n",
    "\n",
    "import experiment\n",
    "import pickle\n",
    "from utils import *\n",
    "from Architectures import *\n",
    "import random, os\n",
    "suppress_warnings()\n",
    "EPOCHS = 256\n",
    "\n",
    "\n",
    "def countp(model, params):\n",
    "    tmp = model(**params)\n",
    "    tmp.build(input_shape=(1,15,7))\n",
    "    return tmp.count_params()\n",
    "\n",
    "\n",
    "n_params = []\n",
    "\n",
    "os.environ['PYTHONHASHSEED']=str(0)\n",
    "tf.random.set_seed(42)\n",
    "np.random.seed(42)\n",
    "random.seed(42)\n",
    "\n",
    "def human_format(num):\n",
    "    magnitude = 0\n",
    "    while abs(num) >= 1000:\n",
    "        magnitude += 1\n",
    "        num /= 1000.0\n",
    "    # add more suffixes if you need them\n",
    "    return '%.0f%s' % (num, ['', 'K', 'M', 'G', 'T', 'P'][magnitude])\n",
    "\n",
    "\n",
    "filename = '../data/data100k_raw_combined_atlas_cut.pkl'\n",
    "n_experiments = 8\n",
    "SUFFIX = 'latent28'\n",
    "\n",
    "\n",
    "#TESTING ######\n",
    "# EPOCHS = 2\n",
    "# filename = '../data/data50k_raw_combined_atlas_cut_small.pkl'\n",
    "# n_experiments = 2\n",
    "# SUFFIX = 'latent28'\n",
    "###########"
   ]
  },
  {
   "cell_type": "code",
   "execution_count": 3,
   "metadata": {},
   "outputs": [
    {
     "name": "stdout",
     "output_type": "stream",
     "text": [
      "Initializing Experimenter\n",
      "\tLoading Data from ../data/data100k_raw_combined_atlas_cut.pkl\n",
      "\tData Loaded\n",
      "\tCreating Splits\n",
      "\tSplits Created\n",
      "Done initalizing\n",
      "Loading Experimenter from Saved Experimenter at /data/delon/experimenter/data100k_raw_combined_atlas_cutlatent28\n",
      "Experimenter Loaded\n",
      "Getting split\n",
      "Split Stored\n",
      "Loading models\n",
      "{'latent_two_5_(64, 128, 256, 128, 2)_64': 'models/data100k_raw_combined_atlas_cut_latent_two_5_(64, 128, 256, 128, 2)_64latent28', 'latent_eight_5_(64, 128, 256, 128, 8)_64': 'models/data100k_raw_combined_atlas_cut_latent_eight_5_(64, 128, 256, 128, 8)_64latent28'}\n",
      "Loaded latent_two_5_(64, 128, 256, 128, 2)_64 from models/data100k_raw_combined_atlas_cut_latent_two_5_(64, 128, 256, 128, 2)_64latent28\n",
      "Loaded latent_eight_5_(64, 128, 256, 128, 8)_64 from models/data100k_raw_combined_atlas_cut_latent_eight_5_(64, 128, 256, 128, 8)_64latent28\n"
     ]
    },
    {
     "name": "stderr",
     "output_type": "stream",
     "text": [
      "2022-09-26 14:21:20.344679: W tensorflow/stream_executor/platform/default/dso_loader.cc:64] Could not load dynamic library 'libcuda.so.1'; dlerror: libcuda.so.1: cannot open shared object file: No such file or directory\n",
      "2022-09-26 14:21:20.344725: W tensorflow/stream_executor/cuda/cuda_driver.cc:326] failed call to cuInit: UNKNOWN ERROR (303)\n",
      "2022-09-26 14:21:20.344782: I tensorflow/stream_executor/cuda/cuda_diagnostics.cc:156] kernel driver does not appear to be running on this host (top1.hep.utexas.edu): /proc/driver/nvidia/version does not exist\n",
      "2022-09-26 14:21:20.345508: I tensorflow/core/platform/cpu_feature_guard.cc:142] This TensorFlow binary is optimized with oneAPI Deep Neural Network Library (oneDNN) to use the following CPU instructions in performance-critical operations:  AVX2 FMA\n",
      "To enable them in other operations, rebuild TensorFlow with the appropriate compiler flags.\n"
     ]
    }
   ],
   "source": [
    "import seaborn as sns\n",
    "import os\n",
    "\n",
    "#to get latex to work \n",
    "os.environ['PATH'] = \"%s:/usr/local/cuda-11.2/bin:/usr/local/bin:/usr/bin:/usr/local/sbin:/usr/sbin:/opt/anaconda/bin:/home/delon/texlive/bin/x86_64-linux:/home/delon/.local/bin:/home/delon/bin\"%os.environ['PATH']\n",
    "PI = experiment.Experimenter(filename)\n",
    "PI.fromSaved(suffix=SUFFIX)"
   ]
  },
  {
   "cell_type": "code",
   "execution_count": null,
   "metadata": {},
   "outputs": [],
   "source": []
  },
  {
   "cell_type": "code",
   "execution_count": 5,
   "metadata": {},
   "outputs": [],
   "source": [
    "latent2 = PI.models['latent_two_5_(64, 128, 256, 128, 2)_64']\n",
    "latent8 = PI.models['latent_eight_5_(64, 128, 256, 128, 8)_64']"
   ]
  },
  {
   "cell_type": "code",
   "execution_count": 6,
   "metadata": {},
   "outputs": [],
   "source": [
    "X_test_latent, y_test_latent = PI.get_test_dataset('latent_two')"
   ]
  },
  {
   "cell_type": "code",
   "execution_count": 63,
   "metadata": {},
   "outputs": [
    {
     "name": "stderr",
     "output_type": "stream",
     "text": [
      "100%|██████████| 60000/60000 [00:56<00:00, 1069.69it/s]\n"
     ]
    }
   ],
   "source": [
    "X_test_ATLAS, y_test_ATLAS = gen_dataset_high_level(PI.events_test, PI.events_oup_test, PI.events_tag_test, \n",
    "                                                    mrel=True ,mtautau=True, colinear_approx=False, tmm=False, ca2=True)\n",
    "X_test_ATLAS = np.array(X_test_ATLAS)\n",
    "\n"
   ]
  },
  {
   "cell_type": "code",
   "execution_count": 51,
   "metadata": {},
   "outputs": [
    {
     "name": "stdout",
     "output_type": "stream",
     "text": [
      "0.0\n"
     ]
    }
   ],
   "source": [
    "#dropping nan\n",
    "hasnan = np.array([np.isnan(event[-1]) for event in X_test_ATLAS])\n",
    "print(sum(hasnan)/len(hasnan))"
   ]
  },
  {
   "cell_type": "code",
   "execution_count": 52,
   "metadata": {},
   "outputs": [],
   "source": [
    "latent_label_28 = y_test_latent.numpy()"
   ]
  },
  {
   "cell_type": "code",
   "execution_count": 53,
   "metadata": {},
   "outputs": [],
   "source": [
    "def get_latent(model, X_test):\n",
    "    latent_getter = LatentGetter(model.layers[0:3], condensed=True)\n",
    "    latent_reps = latent_getter.predict(X_test.numpy())\n",
    "    return latent_reps"
   ]
  },
  {
   "cell_type": "code",
   "execution_count": 54,
   "metadata": {},
   "outputs": [],
   "source": [
    "latent2_features = get_latent(latent2, X_test_latent)"
   ]
  },
  {
   "cell_type": "code",
   "execution_count": 55,
   "metadata": {},
   "outputs": [],
   "source": [
    "latent8_features = get_latent(latent8, X_test_latent)"
   ]
  },
  {
   "cell_type": "code",
   "execution_count": 56,
   "metadata": {},
   "outputs": [],
   "source": [
    "X_test_ATLAS = X_test_ATLAS[~hasnan]"
   ]
  },
  {
   "cell_type": "code",
   "execution_count": 57,
   "metadata": {},
   "outputs": [],
   "source": [
    "latent2_features = latent2_features[~hasnan]\n",
    "latent8_features = latent8_features[~hasnan]"
   ]
  },
  {
   "cell_type": "code",
   "execution_count": 58,
   "metadata": {},
   "outputs": [],
   "source": [
    "from scipy.stats import spearmanr"
   ]
  },
  {
   "cell_type": "code",
   "execution_count": 64,
   "metadata": {},
   "outputs": [],
   "source": [
    "l2_corr = np.array([[np.abs(spearmanr(latent2_features.T[latent_idx], X_test_ATLAS.T[ATLAS_idx])[0])\n",
    "                     for ATLAS_idx in range(len(X_test_ATLAS.T))]\n",
    "                    for latent_idx in range(len(latent2_features.T))])\n",
    "l8_corr = np.array([[np.abs(spearmanr(latent8_features.T[latent_idx], X_test_ATLAS.T[ATLAS_idx])[0])\n",
    "                     for ATLAS_idx in range(len(X_test_ATLAS.T))]\n",
    "                    for latent_idx in range(len(latent8_features.T))])"
   ]
  },
  {
   "cell_type": "code",
   "execution_count": 65,
   "metadata": {},
   "outputs": [],
   "source": [
    "import seaborn as sns"
   ]
  },
  {
   "cell_type": "code",
   "execution_count": 71,
   "metadata": {},
   "outputs": [],
   "source": [
    "plt.rcParams['font.family'] = 'serif'\n",
    "matplotlib.rcParams['text.usetex'] = True"
   ]
  },
  {
   "cell_type": "code",
   "execution_count": 77,
   "metadata": {},
   "outputs": [
    {
     "data": {
      "image/png": "[encoded data removed]",
      "text/plain": [
       "<Figure size 792x504 with 3 Axes>"
      ]
     },
     "metadata": {
      "needs_background": "light"
     },
     "output_type": "display_data"
    }
   ],
   "source": [
    "plt.rcParams['font.size'] = 16\n",
    "cmapl2 = sns.cubehelix_palette(start=14/10, light=1, n_colors=10)\n",
    "cmapl8 = sns.cubehelix_palette(start=20/10, light=1, n_colors=10)\n",
    "\n",
    "cmap =sns.cubehelix_palette(start=26/10, light=.97, n_colors=10)\n",
    "plt.figure(figsize=(11,7))\n",
    "ax = sns.heatmap(np.concatenate([l2_corr, l8_corr]), annot=True, fmt=\".2f\",  linewidths=.5, cmap=cmap,  cbar=0,\n",
    "                 vmin=0, vmax=1, cbar_kws={'label': r\"$\\big|$Spearman's $\\rho\\big|$\", \"orientation\": \"horizontal\", 'pad':0.03, 'shrink':0.5})\n",
    "ax.hlines([2], *ax.get_xlim(), colors=[\"black\"])\n",
    "\n",
    "ax.vlines([8], *ax.get_ylim(), colors=[\"black\"])\n",
    "ax.xaxis.tick_top()\n",
    "ax.tick_params(axis=u'both', which=u'both',length=0)\n",
    "\n",
    "l2_mask = np.array([[i>=2 for j in range(9)] for i in range(10)])\n",
    "sns.heatmap(np.concatenate([l2_corr, l8_corr]), mask=l2_mask, cmap=cmapl2, cbar=True, ax=ax, vmin=0, vmax=1,\n",
    "           cbar_kws={\"orientation\": \"horizontal\", 'pad':-0.1888, 'ticks':[], 'shrink':0.5})\n",
    "\n",
    "l8_mask = np.array([[i<2 for j in range(9)] for i in range(10)])\n",
    "sns.heatmap(np.concatenate([l2_corr, l8_corr]), mask=l8_mask, cmap=cmapl8, cbar=True, ax=ax, vmin=0, vmax=1,\n",
    "           cbar_kws={'label': r\"$|$Spearman's $\\rho|$\", \"orientation\": \"horizontal\", 'pad':0.1, 'shrink':0.5})\n",
    "\n",
    "\n",
    "ax.tick_params(axis=u'x', which=u'both',labelrotation=0)\n",
    "atlas_labels=[r'$p^T_{\\rm tot}$',\n",
    "              r'$|M_{\\hat W}-80.4|$',\n",
    "              r'$\\Delta R_{\\rm min}$',\n",
    "              r'$|M_{\\hat t}-172.5|$', \n",
    "              r'$\\Delta R_{\\tau\\tau}$',\n",
    "              r'$|\\Delta \\eta_{\\tau\\tau}|$',\n",
    "              r'$p^T_{\\tau\\tau}$',\n",
    "              r'$E_T^{\\rm miss}$',\n",
    "              r'$|M_{\\tau\\tau}-125|$', \n",
    "             ]\n",
    "ax.set_xticks(np.arange(9)+0.5, labels=atlas_labels)\n",
    "plt.xlabel(r'\\textbf{ATLAS} Features'+'\\n')\n",
    "ax.xaxis.set_label_position('top')\n",
    "\n",
    "ax.set_yticks([1,6], labels=[ r'$\\ell=2$',  r'$\\ell=8$'])\n",
    "\n",
    "plt.ylabel(r'\\textbf{Pairwise Architecture} Features'+'\\n')\n",
    "\n",
    "plt.savefig('figures/spearman_correlations.pdf', bbox_inches='tight')"
   ]
  },
  {
   "cell_type": "code",
   "execution_count": null,
   "metadata": {},
   "outputs": [],
   "source": [
    "hasnan = [np.isnan(event[-1]) for event in X_test_ATLAS]"
   ]
  },
  {
   "cell_type": "code",
   "execution_count": null,
   "metadata": {},
   "outputs": [],
   "source": [
    "sum(hasnan)/len(hasnan)"
   ]
  },
  {
   "cell_type": "code",
   "execution_count": null,
   "metadata": {},
   "outputs": [],
   "source": []
  }
 ],
 "metadata": {
  "kernelspec": {
   "display_name": "pcec",
   "language": "python",
   "name": "pcec"
  },
  "language_info": {
   "codemirror_mode": {
    "name": "ipython",
    "version": 3
   },
   "file_extension": ".py",
   "mimetype": "text/x-python",
   "name": "python",
   "nbconvert_exporter": "python",
   "pygments_lexer": "ipython3",
   "version": "3.8.13"
  }
 },
 "nbformat": 4,
 "nbformat_minor": 2
}
