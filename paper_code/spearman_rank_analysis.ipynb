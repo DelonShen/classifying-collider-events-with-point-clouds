{
 "cells": [
  {
   "cell_type": "code",
   "execution_count": 1,
   "metadata": {},
   "outputs": [],
   "source": [
    "%load_ext autoreload\n",
    "%autoreload 2"
   ]
  },
  {
   "cell_type": "code",
   "execution_count": 2,
   "metadata": {},
   "outputs": [
    {
     "name": "stderr",
     "output_type": "stream",
     "text": [
      "ERROR in cling::CIFactory::createCI(): cannot extract standard library include paths!\n",
      "Invoking:\n",
      "  LC_ALL=C x86_64-conda-linux-gnu-c++  -O3 -DNDEBUG -xc++ -E -v /dev/null 2>&1 | sed -n -e '/^.include/,${' -e '/^ \\/.*++/p' -e '}'\n",
      "Results was:\n",
      "With exit code 0\n"
     ]
    },
    {
     "name": "stdout",
     "output_type": "stream",
     "text": [
      "Welcome to JupyROOT 6.22/08\n"
     ]
    },
    {
     "name": "stderr",
     "output_type": "stream",
     "text": [
      "2022-09-05 16:59:11.485890: W tensorflow/stream_executor/platform/default/dso_loader.cc:64] Could not load dynamic library 'libcudart.so.11.0'; dlerror: libcudart.so.11.0: cannot open shared object file: No such file or directory\n",
      "2022-09-05 16:59:11.485927: I tensorflow/stream_executor/cuda/cudart_stub.cc:29] Ignore above cudart dlerror if you do not have a GPU set up on your machine.\n"
     ]
    }
   ],
   "source": [
    "import sys\n",
    "sys.path.insert(1, '../')\n",
    "\n",
    "import experiment\n",
    "import pickle\n",
    "from utils import *\n",
    "from Architectures import *\n",
    "import random, os\n",
    "suppress_warnings()\n",
    "EPOCHS = 256\n",
    "\n",
    "\n",
    "def countp(model, params):\n",
    "    tmp = model(**params)\n",
    "    tmp.build(input_shape=(1,15,7))\n",
    "    return tmp.count_params()\n",
    "\n",
    "\n",
    "n_params = []\n",
    "\n",
    "os.environ['PYTHONHASHSEED']=str(0)\n",
    "tf.random.set_seed(42)\n",
    "np.random.seed(42)\n",
    "random.seed(42)\n",
    "\n",
    "def human_format(num):\n",
    "    magnitude = 0\n",
    "    while abs(num) >= 1000:\n",
    "        magnitude += 1\n",
    "        num /= 1000.0\n",
    "    # add more suffixes if you need them\n",
    "    return '%.0f%s' % (num, ['', 'K', 'M', 'G', 'T', 'P'][magnitude])\n",
    "\n",
    "\n",
    "filename = '../data/data100k_raw_combined_atlas_cut.pkl'\n",
    "n_experiments = 8\n",
    "SUFFIX = 'latent28'\n",
    "\n",
    "\n",
    "#TESTING ######\n",
    "# EPOCHS = 2\n",
    "# filename = '../data/data50k_raw_combined_atlas_cut_small.pkl'\n",
    "# n_experiments = 2\n",
    "# SUFFIX = 'latent28'\n",
    "###########"
   ]
  },
  {
   "cell_type": "code",
   "execution_count": 3,
   "metadata": {},
   "outputs": [
    {
     "name": "stdout",
     "output_type": "stream",
     "text": [
      "Initializing Experimenter\n",
      "\tLoading Data from ../data/data100k_raw_combined_atlas_cut.pkl\n",
      "\tData Loaded\n",
      "\tCreating Splits\n",
      "\tSplits Created\n",
      "Done initalizing\n",
      "Loading Experimenter from Saved Experimenter at /data/delon/experimenter/data100k_raw_combined_atlas_cutlatent28\n",
      "Experimenter Loaded\n",
      "Getting split\n",
      "Split Stored\n",
      "Loading models\n",
      "{'latent_two_5_(64, 128, 256, 128, 2)_64': 'models/data100k_raw_combined_atlas_cut_latent_two_5_(64, 128, 256, 128, 2)_64latent28', 'latent_eight_5_(64, 128, 256, 128, 8)_64': 'models/data100k_raw_combined_atlas_cut_latent_eight_5_(64, 128, 256, 128, 8)_64latent28'}\n",
      "Loaded latent_two_5_(64, 128, 256, 128, 2)_64 from models/data100k_raw_combined_atlas_cut_latent_two_5_(64, 128, 256, 128, 2)_64latent28\n",
      "Loaded latent_eight_5_(64, 128, 256, 128, 8)_64 from models/data100k_raw_combined_atlas_cut_latent_eight_5_(64, 128, 256, 128, 8)_64latent28\n"
     ]
    },
    {
     "name": "stderr",
     "output_type": "stream",
     "text": [
      "2022-09-05 16:59:39.967328: W tensorflow/stream_executor/platform/default/dso_loader.cc:64] Could not load dynamic library 'libcuda.so.1'; dlerror: libcuda.so.1: cannot open shared object file: No such file or directory\n",
      "2022-09-05 16:59:39.967387: W tensorflow/stream_executor/cuda/cuda_driver.cc:326] failed call to cuInit: UNKNOWN ERROR (303)\n",
      "2022-09-05 16:59:39.967431: I tensorflow/stream_executor/cuda/cuda_diagnostics.cc:156] kernel driver does not appear to be running on this host (top1.hep.utexas.edu): /proc/driver/nvidia/version does not exist\n",
      "2022-09-05 16:59:39.967867: I tensorflow/core/platform/cpu_feature_guard.cc:142] This TensorFlow binary is optimized with oneAPI Deep Neural Network Library (oneDNN) to use the following CPU instructions in performance-critical operations:  AVX2 FMA\n",
      "To enable them in other operations, rebuild TensorFlow with the appropriate compiler flags.\n"
     ]
    }
   ],
   "source": [
    "import seaborn as sns\n",
    "import os\n",
    "\n",
    "#to get latex to work \n",
    "os.environ['PATH'] = \"%s:/usr/local/cuda-11.2/bin:/usr/local/bin:/usr/bin:/usr/local/sbin:/usr/sbin:/opt/anaconda/bin:/home/delon/texlive/bin/x86_64-linux:/home/delon/.local/bin:/home/delon/bin\"%os.environ['PATH']\n",
    "PI = experiment.Experimenter(filename)\n",
    "PI.fromSaved(suffix=SUFFIX)"
   ]
  },
  {
   "cell_type": "code",
   "execution_count": 4,
   "metadata": {},
   "outputs": [],
   "source": [
    "latent2 = PI.models['latent_two_5_(64, 128, 256, 128, 2)_64']\n",
    "latent8 = PI.models['latent_eight_5_(64, 128, 256, 128, 8)_64']"
   ]
  },
  {
   "cell_type": "code",
   "execution_count": 5,
   "metadata": {},
   "outputs": [],
   "source": [
    "X_test_latent, y_test_latent = PI.get_test_dataset('latent_two')"
   ]
  },
  {
   "cell_type": "code",
   "execution_count": 6,
   "metadata": {},
   "outputs": [],
   "source": [
    "X_test_ATLAS, y_test_ATLAS = gen_dataset_high_level(PI.events_test, PI.events_oup_test, PI.events_tag_test)\n",
    "X_test_ATLAS = np.array(X_test_ATLAS)"
   ]
  },
  {
   "cell_type": "code",
   "execution_count": 7,
   "metadata": {},
   "outputs": [],
   "source": [
    "latent_label_28 = y_test_latent.numpy()"
   ]
  },
  {
   "cell_type": "code",
   "execution_count": 8,
   "metadata": {},
   "outputs": [],
   "source": [
    "def get_latent(model, X_test):\n",
    "    latent_getter = LatentGetter(model.layers[0:3], condensed=True)\n",
    "    latent_reps = latent_getter.predict(X_test.numpy())\n",
    "    return latent_reps"
   ]
  },
  {
   "cell_type": "code",
   "execution_count": 9,
   "metadata": {},
   "outputs": [
    {
     "name": "stderr",
     "output_type": "stream",
     "text": [
      "2022-09-05 17:00:14.237965: I tensorflow/compiler/mlir/mlir_graph_optimization_pass.cc:176] None of the MLIR Optimization Passes are enabled (registered 2)\n",
      "2022-09-05 17:00:14.239558: I tensorflow/core/platform/profile_utils/cpu_utils.cc:114] CPU Frequency: 2397305000 Hz\n"
     ]
    }
   ],
   "source": [
    "latent2_features = get_latent(latent2, X_test_latent)"
   ]
  },
  {
   "cell_type": "code",
   "execution_count": 10,
   "metadata": {},
   "outputs": [],
   "source": [
    "latent8_features = get_latent(latent8, X_test_latent)"
   ]
  },
  {
   "cell_type": "code",
   "execution_count": 11,
   "metadata": {},
   "outputs": [],
   "source": [
    "from scipy.stats import spearmanr"
   ]
  },
  {
   "cell_type": "code",
   "execution_count": 12,
   "metadata": {},
   "outputs": [],
   "source": [
    "l2_corr = np.array([[np.abs(spearmanr(latent2_features.T[latent_idx], X_test_ATLAS.T[ATLAS_idx])[0])\n",
    "                     for ATLAS_idx in range(len(X_test_ATLAS.T))]\n",
    "                    for latent_idx in range(len(latent2_features.T))])\n",
    "l8_corr = np.array([[np.abs(spearmanr(latent8_features.T[latent_idx], X_test_ATLAS.T[ATLAS_idx])[0])\n",
    "                     for ATLAS_idx in range(len(X_test_ATLAS.T))]\n",
    "                    for latent_idx in range(len(latent8_features.T))])"
   ]
  },
  {
   "cell_type": "code",
   "execution_count": 13,
   "metadata": {},
   "outputs": [
    {
     "data": {
      "text/plain": [
       "array([[0.74625262, 0.01184286, 0.39300116, 0.01573125, 0.14366541,\n",
       "        0.12828186, 0.34541584, 0.19083302],\n",
       "       [0.22097475, 0.00592583, 0.19958934, 0.06881793, 0.39014288,\n",
       "        0.2247706 , 0.28646845, 0.33894836],\n",
       "       [0.63662995, 0.01183571, 0.37956205, 0.04774825, 0.58495897,\n",
       "        0.24522388, 0.46102414, 0.08968224],\n",
       "       [0.54777013, 0.02034808, 0.34592567, 0.01642856, 0.09788264,\n",
       "        0.07016371, 0.21698549, 0.15137486],\n",
       "       [0.58754581, 0.01177542, 0.30034157, 0.00373289, 0.01943036,\n",
       "        0.07448394, 0.22401074, 0.05000756],\n",
       "       [0.40090514, 0.01084002, 0.24553138, 0.04693763, 0.21588327,\n",
       "        0.00302065, 0.30958468, 0.19606505],\n",
       "       [0.22783675, 0.01690663, 0.20553099, 0.05227092, 0.02166945,\n",
       "        0.07867703, 0.06527587, 0.19889374],\n",
       "       [0.41226519, 0.01462309, 0.25166769, 0.03991999, 0.28932586,\n",
       "        0.06207479, 0.13919542, 0.00314797],\n",
       "       [0.47493289, 0.0252384 , 0.30240618, 0.03481019, 0.09309309,\n",
       "        0.015714  , 0.14426435, 0.06077308],\n",
       "       [0.51366286, 0.00180027, 0.2165499 , 0.03857827, 0.05369971,\n",
       "        0.12431726, 0.25351274, 0.09311264]])"
      ]
     },
     "execution_count": 13,
     "metadata": {},
     "output_type": "execute_result"
    }
   ],
   "source": [
    "np.concatenate([l2_corr, l8_corr])"
   ]
  },
  {
   "cell_type": "code",
   "execution_count": 14,
   "metadata": {},
   "outputs": [
    {
     "data": {
      "text/plain": [
       "[[True, True, True, True, True, True, True, True],\n",
       " [True, True, True, True, True, True, True, True],\n",
       " [False, False, False, False, False, False, False, False],\n",
       " [False, False, False, False, False, False, False, False],\n",
       " [False, False, False, False, False, False, False, False],\n",
       " [False, False, False, False, False, False, False, False],\n",
       " [False, False, False, False, False, False, False, False],\n",
       " [False, False, False, False, False, False, False, False],\n",
       " [False, False, False, False, False, False, False, False],\n",
       " [False, False, False, False, False, False, False, False]]"
      ]
     },
     "execution_count": 14,
     "metadata": {},
     "output_type": "execute_result"
    }
   ],
   "source": [
    "[[i<2 for j in range(8)] for i in range(10)]"
   ]
  },
  {
   "cell_type": "code",
   "execution_count": 15,
   "metadata": {},
   "outputs": [],
   "source": [
    "import seaborn as sns"
   ]
  },
  {
   "cell_type": "code",
   "execution_count": 16,
   "metadata": {},
   "outputs": [],
   "source": [
    "plt.rcParams['font.family'] = 'serif'\n",
    "matplotlib.rcParams['text.usetex'] = True"
   ]
  },
  {
   "cell_type": "code",
   "execution_count": 18,
   "metadata": {},
   "outputs": [
    {
     "data": {
      "image/png": "[encoded data removed]",
      "text/plain": [
       "<Figure size 576x720 with 3 Axes>"
      ]
     },
     "metadata": {
      "needs_background": "light"
     },
     "output_type": "display_data"
    }
   ],
   "source": [
    "plt.rcParams['font.size'] = 18\n",
    "cmapl2 = sns.cubehelix_palette(start=14/10, light=1, n_colors=10)\n",
    "cmapl8 = sns.cubehelix_palette(start=20/10, light=1, n_colors=10)\n",
    "\n",
    "cmap =sns.cubehelix_palette(start=26/10, light=.97, n_colors=10)\n",
    "plt.figure(figsize=(8,10))\n",
    "ax = sns.heatmap(np.concatenate([l2_corr, l8_corr]), annot=True, fmt=\".2f\",  linewidths=.5, cmap=cmap,  cbar=0,\n",
    "                 vmin=0, vmax=1, cbar_kws={'label': r\"$\\big|$Spearman's $\\rho\\big|$\", \"orientation\": \"horizontal\", 'pad':0.03})\n",
    "ax.hlines([2], *ax.get_xlim(), colors=[\"black\"])\n",
    "ax.xaxis.tick_top()\n",
    "ax.tick_params(axis=u'both', which=u'both',length=0)\n",
    "\n",
    "l2_mask = np.array([[i>=2 for j in range(8)] for i in range(10)])\n",
    "sns.heatmap(np.concatenate([l2_corr, l8_corr]), mask=l2_mask, cmap=cmapl2, cbar=True, ax=ax, vmin=0, vmax=1,\n",
    "           cbar_kws={\"orientation\": \"horizontal\", 'pad':-0.188, 'ticks':[]})\n",
    "\n",
    "l8_mask = np.array([[i<2 for j in range(8)] for i in range(10)])\n",
    "sns.heatmap(np.concatenate([l2_corr, l8_corr]), mask=l8_mask, cmap=cmapl8, cbar=True, ax=ax, vmin=0, vmax=1,\n",
    "           cbar_kws={'label': r\"$\\big|$Spearman's $\\rho\\big|$\", \"orientation\": \"horizontal\", 'pad':0.06})\n",
    "\n",
    "\n",
    "ax.tick_params(axis=u'x', which=u'both',labelrotation=0)\n",
    "atlas_labels=[r'$p^T_{\\rm tot}$',\n",
    "              r'$M_{\\hat W}$',\n",
    "              r'$\\Delta R_{\\rm min}$',\n",
    "              r'$M_{\\hat t}$', \n",
    "              r'$\\Delta R_{\\tau\\tau}$',\n",
    "              r'$|\\Delta \\eta_{\\tau\\tau}|$',\n",
    "              r'$p^T_{\\tau\\tau}$',\n",
    "              r'$E_T^{\\rm miss}$',]\n",
    "ax.set_xticks(np.arange(8)+0.5, labels=atlas_labels)\n",
    "plt.xlabel(r'\\textbf{ATLAS} Features'+'\\n')\n",
    "ax.xaxis.set_label_position('top')\n",
    "\n",
    "ax.set_yticks([1,6], labels=[ r'$\\ell=2$',  r'$\\ell=8$'])\n",
    "\n",
    "plt.ylabel(r'\\textbf{Pairwise Architecture} Features'+'\\n')\n",
    "\n",
    "plt.savefig('figures/spearman_correlations.pdf', bbox_inches='tight')"
   ]
  }
 ],
 "metadata": {
  "kernelspec": {
   "display_name": "pcec",
   "language": "python",
   "name": "pcec"
  },
  "language_info": {
   "codemirror_mode": {
    "name": "ipython",
    "version": 3
   },
   "file_extension": ".py",
   "mimetype": "text/x-python",
   "name": "python",
   "nbconvert_exporter": "python",
   "pygments_lexer": "ipython3",
   "version": "3.8.13"
  }
 },
 "nbformat": 4,
 "nbformat_minor": 2
}
