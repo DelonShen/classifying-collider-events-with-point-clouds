{
 "cells": [
  {
   "cell_type": "code",
   "execution_count": 1,
   "metadata": {},
   "outputs": [],
   "source": [
    "import pickle\n",
    "import numpy as np\n",
    "scan = range(7)\n",
    "def mean_std(lst,a):\n",
    "    return np.array([np.mean(curr) for curr in lst])[a], np.array([np.std(curr) for curr in lst])[a]\n",
    "\n",
    "data_filename = 'figures/latent_scan_auc' \n",
    "AUCs, nn_AUC, e03, e03i, e07i, e07, n_params  = pickle.load(open(data_filename, 'rb'))\n",
    "\n",
    "e03 = np.reshape(e03, (7,8))\n",
    "e03i = np.reshape(e03i, (7,8))\n",
    "\n",
    "e07 = np.reshape(e07, (7,8))\n",
    "e07i = np.reshape(e07i, (7,8))\n",
    "\n",
    "table_file = open('figures/latent_scan_table.tex', 'w+')\n",
    "for a in scan:\n",
    "    table_file.write('$2^%d$ & $%.4f \\pm %.4f$ & %s & $%.1f\\pm %.1f$ & $%.1f\\pm %.1f$ & $%.1f\\pm %.1f$ & $%.1f\\pm %.1f$\\\\\\\\\\n'%(a, *mean_std(AUCs,a),n_params[a],\n",
    "                                                                                                                                *mean_std(e03i,a),\n",
    "                                                                                                                                *mean_std(e03,a),\n",
    "                                                                                                                                *mean_std(e07i,a),\n",
    "                                                                                                                                *mean_std(e07,a), \n",
    "                                                                                                                                ))\n",
    "table_file.close()"
   ]
  },
  {
   "cell_type": "code",
   "execution_count": 2,
   "metadata": {},
   "outputs": [
    {
     "data": {
      "text/plain": [
       "array([[ 52.82879142,  49.70196835,  52.36263317,  54.98299789,\n",
       "         53.5452317 ,  46.41125276,  46.24945088,  50.40411596],\n",
       "       [ 55.2284598 ,  54.9140777 ,  58.13502273,  66.38581535,\n",
       "         66.70162866,  61.51071533,  67.25000488,  60.57808196],\n",
       "       [ 74.27607285,  90.12243657,  85.59204157,  93.62067212,\n",
       "         96.58916595,  72.7046148 ,  62.61535983,  71.14573074],\n",
       "       [ 80.1088325 ,  95.56882286, 100.64213996,  92.31751769,\n",
       "        127.15201152, 101.50401986,  84.77390869,  98.57192495],\n",
       "       [ 98.69560366,  94.41693537, 110.59582031, 103.86461656,\n",
       "         88.78688685, 108.98092434, 100.03851005,  95.67582784],\n",
       "       [102.62446373, 125.62525461, 115.52654606,  98.75057197,\n",
       "        107.93215394,  95.03379796, 120.31259098,  85.92225944],\n",
       "       [107.82575694, 128.65676905,  99.70411949, 125.87164765,\n",
       "        102.81076705, 108.85932777, 110.58038689, 130.74063024]])"
      ]
     },
     "execution_count": 2,
     "metadata": {},
     "output_type": "execute_result"
    }
   ],
   "source": [
    "np.reshape(e03, (7,8))"
   ]
  },
  {
   "cell_type": "code",
   "execution_count": null,
   "metadata": {},
   "outputs": [],
   "source": []
  },
  {
   "cell_type": "code",
   "execution_count": null,
   "metadata": {},
   "outputs": [],
   "source": []
  },
  {
   "cell_type": "code",
   "execution_count": null,
   "metadata": {},
   "outputs": [],
   "source": []
  },
  {
   "cell_type": "code",
   "execution_count": null,
   "metadata": {},
   "outputs": [],
   "source": []
  }
 ],
 "metadata": {
  "kernelspec": {
   "display_name": "pcec",
   "language": "python",
   "name": "pcec"
  },
  "language_info": {
   "codemirror_mode": {
    "name": "ipython",
    "version": 3
   },
   "file_extension": ".py",
   "mimetype": "text/x-python",
   "name": "python",
   "nbconvert_exporter": "python",
   "pygments_lexer": "ipython3",
   "version": "3.8.13"
  }
 },
 "nbformat": 4,
 "nbformat_minor": 2
}
