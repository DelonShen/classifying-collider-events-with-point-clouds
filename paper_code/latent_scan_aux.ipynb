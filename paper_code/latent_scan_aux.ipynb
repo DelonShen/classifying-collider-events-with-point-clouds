{
 "cells": [
  {
   "cell_type": "code",
   "execution_count": 8,
   "metadata": {},
   "outputs": [],
   "source": [
    "import pickle\n",
    "import numpy as np\n",
    "scan = range(7)\n",
    "def mean_std(lst,a):\n",
    "    return np.array([np.mean(curr) for curr in lst])[a], np.array([np.std(curr) for curr in lst])[a]\n",
    "\n",
    "data_filename = 'figures/latent_scan_auc' \n",
    "AUCs, nn_AUC, e03, e03i, e07i, e07, n_params  = pickle.load(open(data_filename, 'rb'))\n",
    "\n",
    "e03 = np.reshape(e03, (7,8))\n",
    "e03i = np.reshape(e03i, (7,8))\n",
    "\n",
    "e07 = np.reshape(e07, (7,8))\n",
    "e07i = np.reshape(e07i, (7,8))\n",
    "\n",
    "table_file = open('figures/latent_scan_table.tex', 'w+')\n",
    "for a in scan:\n",
    "    table_file.write('$2^%d$ & $%.4f \\pm %.4f$ & %s & $%.1f\\pm %.1f$ & $%.1f\\pm %.1f$ & $%.1f\\pm %.1f$ & $%.1f\\pm %.1f$\\\\\\\\\\n'%(a, *mean_std(AUCs,a),n_params[a],\n",
    "                                                                                                                                *mean_std(e03i,a),\n",
    "                                                                                                                                *mean_std(e03,a),\n",
    "                                                                                                                                *mean_std(e07i,a),\n",
    "                                                                                                                                *mean_std(e07,a), \n",
    "                                                                                                                                ))\n",
    "table_file.close()"
   ]
  },
  {
   "cell_type": "code",
   "execution_count": 7,
   "metadata": {},
   "outputs": [
    {
     "data": {
      "text/plain": [
       "array([[ 70.99970355,  71.16535112,  65.92529674,  64.48099784,\n",
       "         71.02336749,  70.55021294,  71.59950552,  74.63251252],\n",
       "       [101.76031383,  74.35091165,  82.29188897,  88.7116539 ,\n",
       "         88.81989884,  92.12395664,  83.64428215, 107.96230035],\n",
       "       [ 89.55901502, 113.39100345, 106.77169062,  85.37002462,\n",
       "         95.27554789,  87.59833243, 110.51760445, 105.49216755],\n",
       "       [121.16000481, 135.77077165, 118.391631  ,  99.25602375,\n",
       "        121.22715923, 135.93641922, 157.34775461, 119.41202003],\n",
       "       [124.34610897, 137.72193785, 151.76124968, 124.30469708,\n",
       "        155.62153256, 111.76241526, 114.87021851, 124.51175654],\n",
       "       [122.22067668, 148.60243476, 154.22359935, 144.70651079,\n",
       "        135.90630148, 113.26519517, 144.28972013, 137.58432295],\n",
       "       [137.76780949, 149.49693163, 162.65386633, 149.23189552,\n",
       "        128.0692353 , 156.98158629, 139.81172529, 135.90630148]])"
      ]
     },
     "execution_count": 7,
     "metadata": {},
     "output_type": "execute_result"
    }
   ],
   "source": [
    "np.reshape(e03, (7,8))"
   ]
  },
  {
   "cell_type": "code",
   "execution_count": 4,
   "metadata": {},
   "outputs": [
    {
     "name": "stdout",
     "output_type": "stream",
     "text": [
      "$2^0$ & $0.966 \\pm 0.001$ & 92K & $482.6\\pm 57.6$ & $144.5\\pm 17.2$ & $43.1\\pm 1.5$ & $30.2\\pm 1.0$\\\\\n",
      "\n"
     ]
    }
   ],
   "source": [
    "AUCs=[[0.9652737617523548, 0.965921060617619, 0.965152395055413, 0.9663206799313722, 0.9651593128982494, 0.9656965396172348, 0.9665684722617214, 0.9661979632217341]]\n",
    "e03i=[[453.15151515, 498.46666667, 433.44927536, 564.30188679, 460.12307692,498.46666667, 564.30188679, 388.41558442]]\n",
    "e03=[[135.89124261, 149.41410785, 129.98292772, 168.75424296, 137.90542439,149.51349639, 168.79174807, 116.01353425]]\n",
    "e07i=[[41.53888889, 45.52207002, 42.12394366, 43.85337243, 41.6545961,  41.94670407, 45.11010558, 43.03309353]]\n",
    "e07=[[29.07114848, 31.85425456, 29.46940256, 30.69677778, 29.15212661, 29.35098368, 31.55548725, 30.11830329]]\n",
    "\n",
    "for a in [0]:\n",
    "    print('$2^%d$ & $%.4f \\pm %.4f$ & %s & $%.1f\\pm %.1f$ & $%.1f\\pm %.1f$ & $%.1f\\pm %.1f$ & $%.1f\\pm %.1f$\\\\\\\\\\n'%(scan[a], *mean_std(AUCs,a),n_params[a],\n",
    "                                                                                                                                *mean_std(e03i,a),\n",
    "                                                                                                                                *mean_std(e03,a),\n",
    "                                                                                                                                *mean_std(e07i,a),\n",
    "                                                                                                                                *mean_std(e07,a), \n",
    "                                                                                                                                ))\n"
   ]
  },
  {
   "cell_type": "code",
   "execution_count": null,
   "metadata": {},
   "outputs": [],
   "source": []
  },
  {
   "cell_type": "code",
   "execution_count": null,
   "metadata": {},
   "outputs": [],
   "source": []
  },
  {
   "cell_type": "code",
   "execution_count": null,
   "metadata": {},
   "outputs": [],
   "source": []
  }
 ],
 "metadata": {
  "kernelspec": {
   "display_name": "pcec",
   "language": "python",
   "name": "pcec"
  },
  "language_info": {
   "codemirror_mode": {
    "name": "ipython",
    "version": 3
   },
   "file_extension": ".py",
   "mimetype": "text/x-python",
   "name": "python",
   "nbconvert_exporter": "python",
   "pygments_lexer": "ipython3",
   "version": "3.8.13"
  }
 },
 "nbformat": 4,
 "nbformat_minor": 2
}
