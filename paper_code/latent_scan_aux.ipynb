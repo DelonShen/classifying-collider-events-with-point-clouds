{
 "cells": [
  {
   "cell_type": "code",
   "execution_count": 5,
   "metadata": {},
   "outputs": [],
   "source": [
    "import pickle\n",
    "import numpy as np\n",
    "scan = range(7)\n",
    "def mean_std(lst,a):\n",
    "    return np.array([np.mean(curr) for curr in lst])[a], np.array([np.std(curr) for curr in lst])[a]\n",
    "\n",
    "data_filename = 'figures/latent_scan_auc' \n",
    "AUCs, nn_AUC, e03, e03i, e07i, e07, n_params  = pickle.load(open(data_filename, 'rb'))\n",
    "\n",
    "e03 = np.reshape(e03, (7,8))\n",
    "e03i = np.reshape(e03i, (7,8))\n",
    "\n",
    "e07 = np.reshape(e07, (7,8))\n",
    "e07i = np.reshape(e07i, (7,8))\n",
    "\n",
    "table_file = open('figures/latent_scan_table.tex', 'w+')\n",
    "for a in scan:\n",
    "    table_file.write('$2^%d$ & $%.3f \\pm %.3f$ & %s & $%.1f\\pm %.1f$ & $%.1f\\pm %.1f$ & $%.1f\\pm %.1f$ & $%.1f\\pm %.1f$\\\\\\\\\\n'%(a, *mean_std(AUCs,a),n_params[a],\n",
    "                                                                                                                                *mean_std(e03i,a),\n",
    "                                                                                                                                *mean_std(e03,a),\n",
    "                                                                                                                                *mean_std(e07i,a),\n",
    "                                                                                                                                *mean_std(e07,a), \n",
    "                                                                                                                                ))\n",
    "table_file.close()"
   ]
  },
  {
   "cell_type": "code",
   "execution_count": 24,
   "metadata": {},
   "outputs": [
    {
     "data": {
      "text/plain": [
       "array([[ 74.11428204,  80.69275124,  65.96914462,  71.14168719,\n",
       "         69.44870665,  83.65357079,  80.06102001,  68.58573912],\n",
       "       [106.78352259, 102.97566849, 107.55516657,  96.08627735,\n",
       "        108.13958171,  89.65840356, 104.13838956,  79.77705275],\n",
       "       [106.80718653, 100.40476173, 105.5506314 , 106.58237912,\n",
       "        113.42874594, 129.93971531, 120.75707829, 116.01353425],\n",
       "       [121.07941951, 137.96658657, 129.85329049, 122.5610484 ,\n",
       "        112.13512229, 131.64597001, 128.14022711, 119.47827906],\n",
       "       [119.04096947, 151.52541246, 142.40958204, 149.49693163,\n",
       "        137.8748433 , 144.5622371 , 122.75165656, 124.11144158],\n",
       "       [152.01393242, 133.74434223, 116.28459391, 156.87696678,\n",
       "        133.22514835, 141.99940711, 135.6954773 , 116.41366994],\n",
       "       [146.68771178, 151.17165664, 129.98292772, 146.80176421,\n",
       "        137.78310003, 114.9848976 , 122.60189301, 128.16862384]])"
      ]
     },
     "execution_count": 24,
     "metadata": {},
     "output_type": "execute_result"
    }
   ],
   "source": [
    "np.reshape(e03, (7,8))"
   ]
  },
  {
   "cell_type": "code",
   "execution_count": 4,
   "metadata": {},
   "outputs": [
    {
     "name": "stdout",
     "output_type": "stream",
     "text": [
      "$2^0$ & $0.966 \\pm 0.001$ & 92K & $482.6\\pm 57.6$ & $144.5\\pm 17.2$ & $43.1\\pm 1.5$ & $30.2\\pm 1.0$\\\\\n",
      "\n"
     ]
    }
   ],
   "source": [
    "AUCs=[[0.9652737617523548, 0.965921060617619, 0.965152395055413, 0.9663206799313722, 0.9651593128982494, 0.9656965396172348, 0.9665684722617214, 0.9661979632217341]]\n",
    "e03i=[[453.15151515, 498.46666667, 433.44927536, 564.30188679, 460.12307692,498.46666667, 564.30188679, 388.41558442]]\n",
    "e03=[[135.89124261, 149.41410785, 129.98292772, 168.75424296, 137.90542439,149.51349639, 168.79174807, 116.01353425]]\n",
    "e07i=[[41.53888889, 45.52207002, 42.12394366, 43.85337243, 41.6545961,  41.94670407, 45.11010558, 43.03309353]]\n",
    "e07=[[29.07114848, 31.85425456, 29.46940256, 30.69677778, 29.15212661, 29.35098368, 31.55548725, 30.11830329]]\n",
    "\n",
    "for a in [0]:\n",
    "    print('$2^%d$ & $%.3f \\pm %.3f$ & %s & $%.1f\\pm %.1f$ & $%.1f\\pm %.1f$ & $%.1f\\pm %.1f$ & $%.1f\\pm %.1f$\\\\\\\\\\n'%(scan[a], *mean_std(AUCs,a),n_params[a],\n",
    "                                                                                                                                *mean_std(e03i,a),\n",
    "                                                                                                                                *mean_std(e03,a),\n",
    "                                                                                                                                *mean_std(e07i,a),\n",
    "                                                                                                                                *mean_std(e07,a), \n",
    "                                                                                                                                ))\n"
   ]
  },
  {
   "cell_type": "code",
   "execution_count": null,
   "metadata": {},
   "outputs": [],
   "source": []
  },
  {
   "cell_type": "code",
   "execution_count": null,
   "metadata": {},
   "outputs": [],
   "source": []
  },
  {
   "cell_type": "code",
   "execution_count": null,
   "metadata": {},
   "outputs": [],
   "source": []
  }
 ],
 "metadata": {
  "kernelspec": {
   "display_name": "pcec",
   "language": "python",
   "name": "pcec"
  },
  "language_info": {
   "codemirror_mode": {
    "name": "ipython",
    "version": 3
   },
   "file_extension": ".py",
   "mimetype": "text/x-python",
   "name": "python",
   "nbconvert_exporter": "python",
   "pygments_lexer": "ipython3",
   "version": "3.8.13"
  }
 },
 "nbformat": 4,
 "nbformat_minor": 2
}
