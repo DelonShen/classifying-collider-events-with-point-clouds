{
 "cells": [
  {
   "cell_type": "code",
   "execution_count": 6,
   "metadata": {},
   "outputs": [],
   "source": [
    "import pickle\n",
    "import numpy as np\n",
    "scan = range(7)\n",
    "def mean_std(lst,a):\n",
    "    return np.array([np.mean(curr) for curr in lst])[a], np.array([np.std(curr) for curr in lst])[a]\n",
    "\n",
    "data_filename = 'figures/latent_scan_auc' \n",
    "AUCs, nn_AUC, e03, e03i, e07i, e07, n_params  = pickle.load(open(data_filename, 'rb'))\n",
    "\n",
    "table_file = open('figures/latent_scan_table.tex', 'w+')\n",
    "for a in scan:\n",
    "    table_file.write('$2^%d$ & $%.3f \\pm %.3f$ & %s & $%.1f\\pm %.2f$ & $%.1f\\pm %.2f$ & $%.1f\\pm %.2f$ & $%.1f\\pm %.2f$\\\\\\\\\\n'%(a, *mean_std(AUCs,a-1),n_params[a],\n",
    "                                                                                                                                *mean_std(e03i,a),\n",
    "                                                                                                                                *mean_std(e03,a),\n",
    "                                                                                                                                *mean_std(e07i,a),\n",
    "                                                                                                                                *mean_std(e07,a), \n",
    "                                                                                                                                ))\n",
    "table_file.close()"
   ]
  },
  {
   "cell_type": "code",
   "execution_count": null,
   "metadata": {},
   "outputs": [],
   "source": []
  }
 ],
 "metadata": {
  "kernelspec": {
   "display_name": "pcec",
   "language": "python",
   "name": "pcec"
  },
  "language_info": {
   "codemirror_mode": {
    "name": "ipython",
    "version": 3
   },
   "file_extension": ".py",
   "mimetype": "text/x-python",
   "name": "python",
   "nbconvert_exporter": "python",
   "pygments_lexer": "ipython3",
   "version": "3.8.13"
  }
 },
 "nbformat": 4,
 "nbformat_minor": 2
}
