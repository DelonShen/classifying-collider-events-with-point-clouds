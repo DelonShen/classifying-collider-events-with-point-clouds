{
 "cells": [
  {
   "cell_type": "code",
   "execution_count": 1,
   "metadata": {},
   "outputs": [],
   "source": [
    "%load_ext autoreload\n",
    "%autoreload 2"
   ]
  },
  {
   "cell_type": "code",
   "execution_count": 12,
   "metadata": {},
   "outputs": [],
   "source": [
    "from utils import *\n",
    "import experiment\n"
   ]
  },
  {
   "cell_type": "code",
   "execution_count": 3,
   "metadata": {},
   "outputs": [],
   "source": [
    "import sys\n",
    "sys.path.insert(1, '../')\n",
    "\n",
    "import experiment\n",
    "import pickle\n",
    "from utils import *\n",
    "from Architectures import *\n",
    "import random, os\n",
    "suppress_warnings()\n",
    "EPOCHS = 256\n",
    "\n",
    "\n",
    "def countp(model, params):\n",
    "    tmp = model(**params)\n",
    "    tmp.build(input_shape=(1,15,7))\n",
    "    return tmp.count_params()\n",
    "\n",
    "\n",
    "n_params = []\n",
    "\n",
    "os.environ['PYTHONHASHSEED']=str(0)\n",
    "tf.random.set_seed(42)\n",
    "np.random.seed(42)\n",
    "random.seed(42)\n",
    "\n",
    "def human_format(num):\n",
    "    magnitude = 0\n",
    "    while abs(num) >= 1000:\n",
    "        magnitude += 1\n",
    "        num /= 1000.0\n",
    "    # add more suffixes if you need them\n",
    "    return '%.0f%s' % (num, ['', 'K', 'M', 'G', 'T', 'P'][magnitude])\n",
    "\n",
    "\n",
    "filename = '../data/data100k_raw_combined_atlas_cut.pkl'\n",
    "SUFFIX = ''\n",
    "\n",
    "\n",
    "#TESTING ######\n",
    "# EPOCHS = 2\n",
    "# filename = '../data/data50k_raw_combined_atlas_cut_small.pkl'\n",
    "# n_experiments = 2\n",
    "# SUFFIX = 'latent28'\n",
    "###########"
   ]
  },
  {
   "cell_type": "code",
   "execution_count": 4,
   "metadata": {},
   "outputs": [
    {
     "name": "stdout",
     "output_type": "stream",
     "text": [
      "Initializing Experimenter\n",
      "\tLoading Data from ../data/data100k_raw_combined_atlas_cut.pkl\n",
      "\tData Loaded\n",
      "\tCreating Splits\n",
      "\tSplits Created\n",
      "Done initalizing\n",
      "Loading Experimenter from Saved Experimenter at /data/delon/experimenter/data100k_raw_combined_atlas_cut\n",
      "Experimenter Loaded\n",
      "Getting split\n",
      "Split Stored\n",
      "Loading models\n",
      "{'nested_concat_70_4_64_3': 'models/data100k_raw_combined_atlas_cut_nested_concat_70_4_64_3', 'nested_concat_general_68_3_64_3': 'models/data100k_raw_combined_atlas_cut_nested_concat_general_68_3_64_3', 'particlewise_128_4_64': 'models/data100k_raw_combined_atlas_cut_particlewise_128_4_64', 'tripletwise_5_(64, 128, 256, 128, 64)_64': 'models/data100k_raw_combined_atlas_cut_tripletwise_5_(64, 128, 256, 128, 64)_64', 'pairwise_5_(64, 128, 256, 128, 64)_64': 'models/data100k_raw_combined_atlas_cut_pairwise_5_(64, 128, 256, 128, 64)_64', 'pairwise_nl_5_(64, 128, 256, 128, 64)_32_64': 'models/data100k_raw_combined_atlas_cut_pairwise_nl_5_(64, 128, 256, 128, 64)_32_64', 'pairwise_nl_iter_5_((64, 64, 116, 64, 64), (64, 64, 116, 64, 64), (64, 64, 116, 64, 64))_32_64': 'models/data100k_raw_combined_atlas_cut_pairwise_nl_iter_5_((64, 64, 116, 64, 64), (64, 64, 116, 64, 64), (64, 64, 116, 64, 64))_32_64', 'naivednn_256_3_2': 'models/data100k_raw_combined_atlas_cut_naivednn_256_3_2', 'dnn_256_3_2': 'models/data100k_raw_combined_atlas_cut_dnn_256_3_2'}\n",
      "Loaded nested_concat_70_4_64_3 from models/data100k_raw_combined_atlas_cut_nested_concat_70_4_64_3\n",
      "Loaded nested_concat_general_68_3_64_3 from models/data100k_raw_combined_atlas_cut_nested_concat_general_68_3_64_3\n",
      "Loaded particlewise_128_4_64 from models/data100k_raw_combined_atlas_cut_particlewise_128_4_64\n",
      "Loaded tripletwise_5_(64, 128, 256, 128, 64)_64 from models/data100k_raw_combined_atlas_cut_tripletwise_5_(64, 128, 256, 128, 64)_64\n",
      "Loaded pairwise_5_(64, 128, 256, 128, 64)_64 from models/data100k_raw_combined_atlas_cut_pairwise_5_(64, 128, 256, 128, 64)_64\n",
      "Loaded pairwise_nl_5_(64, 128, 256, 128, 64)_32_64 from models/data100k_raw_combined_atlas_cut_pairwise_nl_5_(64, 128, 256, 128, 64)_32_64\n",
      "Loaded pairwise_nl_iter_5_((64, 64, 116, 64, 64), (64, 64, 116, 64, 64), (64, 64, 116, 64, 64))_32_64 from models/data100k_raw_combined_atlas_cut_pairwise_nl_iter_5_((64, 64, 116, 64, 64), (64, 64, 116, 64, 64), (64, 64, 116, 64, 64))_32_64\n",
      "Loaded naivednn_256_3_2 from models/data100k_raw_combined_atlas_cut_naivednn_256_3_2\n",
      "Loaded dnn_256_3_2 from models/data100k_raw_combined_atlas_cut_dnn_256_3_2\n"
     ]
    },
    {
     "name": "stderr",
     "output_type": "stream",
     "text": [
      "2022-09-16 11:52:06.231973: W tensorflow/stream_executor/platform/default/dso_loader.cc:64] Could not load dynamic library 'libcuda.so.1'; dlerror: libcuda.so.1: cannot open shared object file: No such file or directory\n",
      "2022-09-16 11:52:06.232018: W tensorflow/stream_executor/cuda/cuda_driver.cc:326] failed call to cuInit: UNKNOWN ERROR (303)\n",
      "2022-09-16 11:52:06.232066: I tensorflow/stream_executor/cuda/cuda_diagnostics.cc:156] kernel driver does not appear to be running on this host (top1.hep.utexas.edu): /proc/driver/nvidia/version does not exist\n",
      "2022-09-16 11:52:06.232628: I tensorflow/core/platform/cpu_feature_guard.cc:142] This TensorFlow binary is optimized with oneAPI Deep Neural Network Library (oneDNN) to use the following CPU instructions in performance-critical operations:  AVX2 FMA\n",
      "To enable them in other operations, rebuild TensorFlow with the appropriate compiler flags.\n"
     ]
    }
   ],
   "source": [
    "import seaborn as sns\n",
    "import os\n",
    "\n",
    "#to get latex to work \n",
    "os.environ['PATH'] = \"%s:/usr/local/cuda-11.2/bin:/usr/local/bin:/usr/bin:/usr/local/sbin:/usr/sbin:/opt/anaconda/bin:/home/delon/texlive/bin/x86_64-linux:/home/delon/.local/bin:/home/delon/bin\"%os.environ['PATH']\n",
    "PI = experiment.Experimenter(filename)\n",
    "PI.fromSaved(suffix=SUFFIX)"
   ]
  },
  {
   "cell_type": "code",
   "execution_count": 17,
   "metadata": {},
   "outputs": [
    {
     "data": {
      "text/plain": [
       "{'nested_concat_70_4_64_3': <Architectures.NestedConcat at 0x7f0a7f372c70>,\n",
       " 'nested_concat_general_68_3_64_3': <Architectures.NestedConcat_General at 0x7f0a7f39efa0>,\n",
       " 'particlewise_128_4_64': <Architectures.DeepSet at 0x7f0a7f39ef40>,\n",
       " 'tripletwise_5_(64, 128, 256, 128, 64)_64': <Architectures.Tripletwise at 0x7f0a7f35afd0>,\n",
       " 'pairwise_5_(64, 128, 256, 128, 64)_64': <Architectures.Pairwise at 0x7f0a7f2e7c10>,\n",
       " 'pairwise_nl_5_(64, 128, 256, 128, 64)_32_64': <Architectures.IteratedPiPairwise at 0x7f0a7f2b5190>,\n",
       " 'pairwise_nl_iter_5_((64, 64, 116, 64, 64), (64, 64, 116, 64, 64), (64, 64, 116, 64, 64))_32_64': <Architectures.IteratedPiPairwise at 0x7f0a7f263310>,\n",
       " 'naivednn_256_3_2': <Architectures.DNN_Flatten at 0x7f0a7f30c8e0>,\n",
       " 'dnn_256_3_2': <Architectures.DNN_Classifier at 0x7f0a7f23eb50>}"
      ]
     },
     "execution_count": 17,
     "metadata": {},
     "output_type": "execute_result"
    }
   ],
   "source": [
    "PI.models"
   ]
  },
  {
   "cell_type": "code",
   "execution_count": 18,
   "metadata": {},
   "outputs": [],
   "source": [
    "model = PI.models['pairwise_5_(64, 128, 256, 128, 64)_64']"
   ]
  },
  {
   "cell_type": "code",
   "execution_count": 19,
   "metadata": {},
   "outputs": [],
   "source": [
    "X_test_latent, y_test_latent = PI.get_test_dataset('pairwise')"
   ]
  },
  {
   "cell_type": "code",
   "execution_count": 20,
   "metadata": {},
   "outputs": [
    {
     "name": "stderr",
     "output_type": "stream",
     "text": [
      "2022-09-16 12:09:15.237088: I tensorflow/compiler/mlir/mlir_graph_optimization_pass.cc:176] None of the MLIR Optimization Passes are enabled (registered 2)\n",
      "2022-09-16 12:09:15.238223: I tensorflow/core/platform/profile_utils/cpu_utils.cc:114] CPU Frequency: 2397305000 Hz\n"
     ]
    }
   ],
   "source": [
    "yhat_test = model.predict(X_test_latent)"
   ]
  },
  {
   "cell_type": "code",
   "execution_count": 31,
   "metadata": {},
   "outputs": [
    {
     "name": "stderr",
     "output_type": "stream",
     "text": [
      "100%|██████████| 60000/60000 [00:48<00:00, 1239.77it/s]\n"
     ]
    }
   ],
   "source": [
    "X_test_ATLAS, y_test_ATLAS = gen_dataset_high_level(PI.events_test, PI.events_oup_test, PI.events_tag_test, \n",
    "                                                    mrel=False ,mtautau=True, colinear_approx=True)\n",
    "X_test_ATLAS = np.array(X_test_ATLAS)"
   ]
  },
  {
   "cell_type": "code",
   "execution_count": 32,
   "metadata": {},
   "outputs": [],
   "source": [
    "from sklearn.metrics import roc_curve, auc\n",
    "\n",
    "yhat_test_roc = np.array([true for (true,false) in yhat_test])\n",
    "y_test_roc    = np.array([true for (true,false) in y_test_latent   ])\n",
    "\n",
    "\n",
    "fpr, tpr, thresholds = roc_curve(y_test_roc, yhat_test_roc)"
   ]
  },
  {
   "cell_type": "code",
   "execution_count": 66,
   "metadata": {},
   "outputs": [],
   "source": [
    "import bisect \n",
    "\n",
    "location = bisect.bisect_left(tpr, 0.7)\n",
    "cutoff = thresholds[location]\n",
    "\n",
    "quantized_yhat = np.array([true>cutoff for (true, false) in yhat_test])"
   ]
  },
  {
   "cell_type": "code",
   "execution_count": 67,
   "metadata": {},
   "outputs": [],
   "source": [
    "ditau_mass = np.array([event[-1] for event in X_test_ATLAS])"
   ]
  },
  {
   "cell_type": "code",
   "execution_count": 68,
   "metadata": {},
   "outputs": [],
   "source": [
    "import pandas as pd\n",
    "\n",
    "data1 = pd.DataFrame({'Signal': ditau_mass[quantized_yhat]})\n",
    "data2 = pd.DataFrame({'Background':ditau_mass[~quantized_yhat]})\n",
    "data = pd.concat([data1, data2], axis=1) \n"
   ]
  },
  {
   "cell_type": "code",
   "execution_count": 69,
   "metadata": {},
   "outputs": [
    {
     "name": "stdout",
     "output_type": "stream",
     "text": [
      "Signal    132.103058\n",
      "dtype: float64 Background    158.514665\n",
      "dtype: float64\n"
     ]
    }
   ],
   "source": [
    "print(data1.median(), data2.median())"
   ]
  },
  {
   "cell_type": "code",
   "execution_count": 71,
   "metadata": {},
   "outputs": [
    {
     "data": {
      "image/png": "[encoded data removed]",
      "text/plain": [
       "<Figure size 576x360 with 1 Axes>"
      ]
     },
     "metadata": {},
     "output_type": "display_data"
    }
   ],
   "source": [
    "plt.rcParams['font.family'] = 'serif'\n",
    "matplotlib.rcParams['text.usetex'] = True\n",
    "plt.figure(figsize=(8,5))\n",
    "mask = [False, True, False,True,False]\n",
    "# cmap = np.array(sns.cubehelix_palette(start=26/10, light=.97, n_colors=5))[mask][::-1]\n",
    "cmap = ['r', 'b']\n",
    "mn = min(ditau_mass)\n",
    "sns.set_style('white')\n",
    "# sns.set_palette(sns.color_palette([ '#94d2bd', '#005f73']))\n",
    "\n",
    "plt.rcParams['font.family'] = 'serif'\n",
    "plt.rcParams['font.size'] = 18\n",
    "plt.rcParams['figure.autolayout'] = True\n",
    "\n",
    "\n",
    "ax = sns.histplot(data=data, legend=True, multiple='stack',fill=True, bins=20, binrange=(0,200), palette=cmap )\n",
    "# ax.set_facecolor(np.array(sns.cubehelix_palette(start=26/10, light=.97, n_colors=5))[0])\n",
    "sns.move_legend(ax, 'upper left', frameon=False)\n",
    "ax.set_xlim(mn, 200)\n",
    "plt.xlabel(r'$M_{\\tau\\tau}$')\n",
    "\n",
    "annot_txt = r'$M_{\\tau\\tau}$ constructed with'\n",
    "annot_txt += '\\n'\n",
    "annot_txt += r'\\textbf{Collinear Approximation}'\n",
    "annot_txt += '\\n'\n",
    "annot_txt += r'$\\epsilon_s=0.7$'\n",
    "\n",
    "ax.text(0.03, .55,\n",
    "        s=annot_txt, \n",
    "        transform=ax.transAxes,\n",
    "        horizontalalignment='left',\n",
    "        verticalalignment='bottom',\n",
    "       fontsize=16)\n",
    "\n",
    "\n",
    "plt.savefig('figures/mtt_hist.pdf',  bbox_inches='tight')"
   ]
  },
  {
   "cell_type": "code",
   "execution_count": null,
   "metadata": {},
   "outputs": [],
   "source": [
    "yhat_test_roc"
   ]
  },
  {
   "cell_type": "code",
   "execution_count": null,
   "metadata": {},
   "outputs": [],
   "source": []
  },
  {
   "cell_type": "code",
   "execution_count": 8,
   "metadata": {},
   "outputs": [
    {
     "data": {
      "text/plain": [
       "(array([3, 2, 1]), array([4, 0]))"
      ]
     },
     "execution_count": 8,
     "metadata": {},
     "output_type": "execute_result"
    }
   ],
   "source": [
    "train_test_split(5)"
   ]
  },
  {
   "cell_type": "code",
   "execution_count": 10,
   "metadata": {},
   "outputs": [
    {
     "data": {
      "text/plain": [
       "(array([3, 4, 2]), array([0, 1]))"
      ]
     },
     "execution_count": 10,
     "metadata": {},
     "output_type": "execute_result"
    }
   ],
   "source": [
    "train_test_split(5)"
   ]
  },
  {
   "cell_type": "code",
   "execution_count": null,
   "metadata": {},
   "outputs": [],
   "source": []
  }
 ],
 "metadata": {
  "kernelspec": {
   "display_name": "pcec",
   "language": "python",
   "name": "pcec"
  },
  "language_info": {
   "codemirror_mode": {
    "name": "ipython",
    "version": 3
   },
   "file_extension": ".py",
   "mimetype": "text/x-python",
   "name": "python",
   "nbconvert_exporter": "python",
   "pygments_lexer": "ipython3",
   "version": "3.8.13"
  }
 },
 "nbformat": 4,
 "nbformat_minor": 2
}
