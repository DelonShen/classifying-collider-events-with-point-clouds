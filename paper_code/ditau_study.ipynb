{
 "cells": [
  {
   "cell_type": "code",
   "execution_count": 1,
   "metadata": {},
   "outputs": [],
   "source": [
    "%load_ext autoreload\n",
    "%autoreload 2"
   ]
  },
  {
   "cell_type": "code",
   "execution_count": 2,
   "metadata": {},
   "outputs": [
    {
     "name": "stderr",
     "output_type": "stream",
     "text": [
      "ERROR in cling::CIFactory::createCI(): cannot extract standard library include paths!\n",
      "Invoking:\n",
      "  LC_ALL=C x86_64-conda-linux-gnu-c++  -O3 -DNDEBUG -xc++ -E -v /dev/null 2>&1 | sed -n -e '/^.include/,${' -e '/^ \\/.*++/p' -e '}'\n",
      "Results was:\n",
      "With exit code 0\n"
     ]
    },
    {
     "name": "stdout",
     "output_type": "stream",
     "text": [
      "Welcome to JupyROOT 6.22/08\n"
     ]
    },
    {
     "name": "stderr",
     "output_type": "stream",
     "text": [
      "2022-09-27 18:30:08.403913: W tensorflow/stream_executor/platform/default/dso_loader.cc:64] Could not load dynamic library 'libcudart.so.11.0'; dlerror: libcudart.so.11.0: cannot open shared object file: No such file or directory\n",
      "2022-09-27 18:30:08.403981: I tensorflow/stream_executor/cuda/cudart_stub.cc:29] Ignore above cudart dlerror if you do not have a GPU set up on your machine.\n"
     ]
    }
   ],
   "source": [
    "from utils import *\n",
    "import experiment\n"
   ]
  },
  {
   "cell_type": "code",
   "execution_count": 3,
   "metadata": {},
   "outputs": [],
   "source": [
    "import sys\n",
    "sys.path.insert(1, '../')\n",
    "\n",
    "import experiment\n",
    "import pickle\n",
    "from utils import *\n",
    "from Architectures import *\n",
    "import random, os\n",
    "suppress_warnings()\n",
    "EPOCHS = 256\n",
    "\n",
    "\n",
    "def countp(model, params):\n",
    "    tmp = model(**params)\n",
    "    tmp.build(input_shape=(1,15,7))\n",
    "    return tmp.count_params()\n",
    "\n",
    "\n",
    "n_params = []\n",
    "\n",
    "os.environ['PYTHONHASHSEED']=str(0)\n",
    "tf.random.set_seed(42)\n",
    "np.random.seed(42)\n",
    "random.seed(42)\n",
    "\n",
    "def human_format(num):\n",
    "    magnitude = 0\n",
    "    while abs(num) >= 1000:\n",
    "        magnitude += 1\n",
    "        num /= 1000.0\n",
    "    # add more suffixes if you need them\n",
    "    return '%.0f%s' % (num, ['', 'K', 'M', 'G', 'T', 'P'][magnitude])\n",
    "\n",
    "\n",
    "filename = '../data/data100k_raw_combined_atlas_cut.pkl'\n",
    "SUFFIX = ''\n",
    "\n",
    "\n",
    "#TESTING ######\n",
    "# EPOCHS = 2\n",
    "# filename = '../data/data50k_raw_combined_atlas_cut_small.pkl'\n",
    "# n_experiments = 2\n",
    "# SUFFIX = 'latent28'\n",
    "###########"
   ]
  },
  {
   "cell_type": "code",
   "execution_count": 4,
   "metadata": {},
   "outputs": [
    {
     "name": "stdout",
     "output_type": "stream",
     "text": [
      "Initializing Experimenter\n",
      "\tLoading Data from ../data/data100k_raw_combined_atlas_cut.pkl\n",
      "\tData Loaded\n",
      "\tCreating Splits\n",
      "\tSplits Created\n",
      "Done initalizing\n",
      "Loading Experimenter from Saved Experimenter at /data/delon/experimenter/data100k_raw_combined_atlas_cut\n",
      "Experimenter Loaded\n",
      "Getting split\n",
      "Split Stored\n",
      "Loading models\n",
      "{'nested_concat_70_4_64_3': 'models/data100k_raw_combined_atlas_cut_nested_concat_70_4_64_3', 'nested_concat_general_68_3_64_3': 'models/data100k_raw_combined_atlas_cut_nested_concat_general_68_3_64_3', 'particlewise_128_4_64': 'models/data100k_raw_combined_atlas_cut_particlewise_128_4_64', 'tripletwise_5_(64, 128, 256, 128, 64)_64': 'models/data100k_raw_combined_atlas_cut_tripletwise_5_(64, 128, 256, 128, 64)_64', 'pairwise_5_(64, 128, 256, 128, 64)_64': 'models/data100k_raw_combined_atlas_cut_pairwise_5_(64, 128, 256, 128, 64)_64', 'pairwise_nl_5_(64, 128, 256, 128, 64)_32_64': 'models/data100k_raw_combined_atlas_cut_pairwise_nl_5_(64, 128, 256, 128, 64)_32_64', 'pairwise_nl_iter_5_((64, 64, 116, 64, 64), (64, 64, 116, 64, 64), (64, 64, 116, 64, 64))_32_64': 'models/data100k_raw_combined_atlas_cut_pairwise_nl_iter_5_((64, 64, 116, 64, 64), (64, 64, 116, 64, 64), (64, 64, 116, 64, 64))_32_64', 'naivednn_256_3_2': 'models/data100k_raw_combined_atlas_cut_naivednn_256_3_2', 'dnn_256_3_2': 'models/data100k_raw_combined_atlas_cut_dnn_256_3_2'}\n",
      "Loaded nested_concat_70_4_64_3 from models/data100k_raw_combined_atlas_cut_nested_concat_70_4_64_3\n",
      "Loaded nested_concat_general_68_3_64_3 from models/data100k_raw_combined_atlas_cut_nested_concat_general_68_3_64_3\n",
      "Loaded particlewise_128_4_64 from models/data100k_raw_combined_atlas_cut_particlewise_128_4_64\n",
      "Loaded tripletwise_5_(64, 128, 256, 128, 64)_64 from models/data100k_raw_combined_atlas_cut_tripletwise_5_(64, 128, 256, 128, 64)_64\n",
      "Loaded pairwise_5_(64, 128, 256, 128, 64)_64 from models/data100k_raw_combined_atlas_cut_pairwise_5_(64, 128, 256, 128, 64)_64\n",
      "Loaded pairwise_nl_5_(64, 128, 256, 128, 64)_32_64 from models/data100k_raw_combined_atlas_cut_pairwise_nl_5_(64, 128, 256, 128, 64)_32_64\n",
      "Loaded pairwise_nl_iter_5_((64, 64, 116, 64, 64), (64, 64, 116, 64, 64), (64, 64, 116, 64, 64))_32_64 from models/data100k_raw_combined_atlas_cut_pairwise_nl_iter_5_((64, 64, 116, 64, 64), (64, 64, 116, 64, 64), (64, 64, 116, 64, 64))_32_64\n",
      "Loaded naivednn_256_3_2 from models/data100k_raw_combined_atlas_cut_naivednn_256_3_2\n",
      "Loaded dnn_256_3_2 from models/data100k_raw_combined_atlas_cut_dnn_256_3_2\n"
     ]
    },
    {
     "name": "stderr",
     "output_type": "stream",
     "text": [
      "2022-09-27 18:30:55.468734: W tensorflow/stream_executor/platform/default/dso_loader.cc:64] Could not load dynamic library 'libcuda.so.1'; dlerror: libcuda.so.1: cannot open shared object file: No such file or directory\n",
      "2022-09-27 18:30:55.468850: W tensorflow/stream_executor/cuda/cuda_driver.cc:326] failed call to cuInit: UNKNOWN ERROR (303)\n",
      "2022-09-27 18:30:55.468967: I tensorflow/stream_executor/cuda/cuda_diagnostics.cc:156] kernel driver does not appear to be running on this host (top1.hep.utexas.edu): /proc/driver/nvidia/version does not exist\n",
      "2022-09-27 18:30:55.469816: I tensorflow/core/platform/cpu_feature_guard.cc:142] This TensorFlow binary is optimized with oneAPI Deep Neural Network Library (oneDNN) to use the following CPU instructions in performance-critical operations:  AVX2 FMA\n",
      "To enable them in other operations, rebuild TensorFlow with the appropriate compiler flags.\n"
     ]
    }
   ],
   "source": [
    "import seaborn as sns\n",
    "import os\n",
    "\n",
    "#to get latex to work \n",
    "os.environ['PATH'] = \"%s:/usr/local/cuda-11.2/bin:/usr/local/bin:/usr/bin:/usr/local/sbin:/usr/sbin:/opt/anaconda/bin:/home/delon/texlive/bin/x86_64-linux:/home/delon/.local/bin:/home/delon/bin\"%os.environ['PATH']\n",
    "PI = experiment.Experimenter(filename)\n",
    "PI.fromSaved(suffix=SUFFIX)"
   ]
  },
  {
   "cell_type": "code",
   "execution_count": 5,
   "metadata": {},
   "outputs": [
    {
     "data": {
      "text/plain": [
       "{'nested_concat_70_4_64_3': <Architectures.NestedConcat at 0x7fe959684340>,\n",
       " 'nested_concat_general_68_3_64_3': <Architectures.NestedConcat_General at 0x7fe9596b2f40>,\n",
       " 'particlewise_128_4_64': <Architectures.DeepSet at 0x7fe9596b2ee0>,\n",
       " 'tripletwise_5_(64, 128, 256, 128, 64)_64': <Architectures.Tripletwise at 0x7fe95966ef10>,\n",
       " 'pairwise_5_(64, 128, 256, 128, 64)_64': <Architectures.Pairwise at 0x7fe9595fbb50>,\n",
       " 'pairwise_nl_5_(64, 128, 256, 128, 64)_32_64': <Architectures.IteratedPiPairwise at 0x7fe9595ca0d0>,\n",
       " 'pairwise_nl_iter_5_((64, 64, 116, 64, 64), (64, 64, 116, 64, 64), (64, 64, 116, 64, 64))_32_64': <Architectures.IteratedPiPairwise at 0x7fe959577250>,\n",
       " 'naivednn_256_3_2': <Architectures.DNN_Flatten at 0x7fe95961f250>,\n",
       " 'dnn_256_3_2': <Architectures.DNN_Classifier at 0x7fe959508f10>}"
      ]
     },
     "execution_count": 5,
     "metadata": {},
     "output_type": "execute_result"
    }
   ],
   "source": [
    "PI.models"
   ]
  },
  {
   "cell_type": "code",
   "execution_count": 6,
   "metadata": {},
   "outputs": [],
   "source": [
    "model = PI.models['pairwise_5_(64, 128, 256, 128, 64)_64']"
   ]
  },
  {
   "cell_type": "code",
   "execution_count": 7,
   "metadata": {},
   "outputs": [],
   "source": [
    "X_test_latent, y_test_latent = PI.get_test_dataset('pairwise')"
   ]
  },
  {
   "cell_type": "code",
   "execution_count": 8,
   "metadata": {},
   "outputs": [
    {
     "name": "stderr",
     "output_type": "stream",
     "text": [
      "2022-09-27 18:31:03.066968: I tensorflow/compiler/mlir/mlir_graph_optimization_pass.cc:176] None of the MLIR Optimization Passes are enabled (registered 2)\n",
      "2022-09-27 18:31:03.068008: I tensorflow/core/platform/profile_utils/cpu_utils.cc:114] CPU Frequency: 2397305000 Hz\n"
     ]
    }
   ],
   "source": [
    "yhat_test = model.predict(X_test_latent)"
   ]
  },
  {
   "cell_type": "code",
   "execution_count": null,
   "metadata": {},
   "outputs": [],
   "source": []
  },
  {
   "cell_type": "code",
   "execution_count": 9,
   "metadata": {},
   "outputs": [
    {
     "name": "stderr",
     "output_type": "stream",
     "text": [
      "100%|██████████| 60000/60000 [01:00<00:00, 994.69it/s] \n"
     ]
    }
   ],
   "source": [
    "X_test_ATLAS, y_test_ATLAS = gen_dataset_high_level(PI.events_test, PI.events_oup_test, PI.events_tag_test, \n",
    "                                                    mrel=False ,mtautau=True, colinear_approx=False, tmm=False, ca2=True)\n",
    "X_test_ATLAS = np.array(X_test_ATLAS) "
   ]
  },
  {
   "cell_type": "code",
   "execution_count": 10,
   "metadata": {},
   "outputs": [],
   "source": [
    "from sklearn.metrics import roc_curve, auc\n",
    "\n",
    "yhat_test_roc = np.array([true for (true,false) in yhat_test])\n",
    "y_test_roc    = np.array([true for (true,false) in y_test_latent   ])\n",
    "\n",
    "fpr, tpr, thresholds = roc_curve(y_test_roc, yhat_test_roc)"
   ]
  },
  {
   "cell_type": "code",
   "execution_count": 11,
   "metadata": {},
   "outputs": [
    {
     "name": "stdout",
     "output_type": "stream",
     "text": [
      "0.9665931497160212\n"
     ]
    }
   ],
   "source": [
    "from sklearn import metrics\n",
    "auc = metrics.auc(fpr, tpr)\n",
    "print(auc)"
   ]
  },
  {
   "cell_type": "code",
   "execution_count": 12,
   "metadata": {},
   "outputs": [
    {
     "name": "stdout",
     "output_type": "stream",
     "text": [
      "0.0\n"
     ]
    },
    {
     "data": {
      "image/png": "[encoded data removed]",
      "text/plain": [
       "<Figure size 576x360 with 1 Axes>"
      ]
     },
     "metadata": {
      "needs_background": "light"
     },
     "output_type": "display_data"
    }
   ],
   "source": [
    "import bisect \n",
    "\n",
    "location = bisect.bisect_left(tpr, 0.7)\n",
    "cutoff = thresholds[location]\n",
    "\n",
    "quantized_yhat = np.array([true>cutoff for (true, false) in yhat_test])\n",
    "assert(len(y_test_roc) == len(quantized_yhat))\n",
    "cut_signal = np.array([(bool(quantized_yhat[i]) and bool(y_test_roc[i])) for i in range(len(yhat_test))])\n",
    "cut_background = np.array([quantized_yhat[i] and (not y_test_roc[i]) for i in range(len(yhat_test))])\n",
    "\n",
    "ditau_mass = np.array([event[-1] for event in X_test_ATLAS])\n",
    "\n",
    "import pandas as pd\n",
    "\n",
    "data1 = pd.DataFrame({'Signal': ditau_mass[cut_signal]})\n",
    "data2 = pd.DataFrame({'Background':ditau_mass[cut_background]})\n",
    "data = pd.concat([data1, data2], axis=1) \n",
    "# data = data1\n",
    "\n",
    "#dropping nan\n",
    "hasnan = np.array([np.isnan(event[-1]) for event in X_test_ATLAS])\n",
    "print(sum(hasnan)/len(hasnan))\n",
    "\n",
    "plt.rcParams['font.family'] = 'serif'\n",
    "matplotlib.rcParams['text.usetex'] = True\n",
    "plt.figure(figsize=(8,5))\n",
    "# mask = [False, True, False,True,False]\n",
    "# cmap = np.array(sns.cubehelix_palette(start=26/10, light=.97, n_colors=5))[mask][::-1]\n",
    "cmap = ['r', 'b']\n",
    "# cmap = ['r']\n",
    "mn = min(ditau_mass)\n",
    "sns.set_style('white')\n",
    "# sns.set_palette(sns.color_palette([ '#94d2bd', '#005f73']))\n",
    "\n",
    "plt.rcParams['font.family'] = 'serif'\n",
    "plt.rcParams['font.size'] = 18\n",
    "plt.rcParams['figure.autolayout'] = True\n",
    "\n",
    "\n",
    "ax = sns.histplot(data=data, legend=True, multiple='stack',fill=True, bins=25, binrange=(0,250), palette=cmap )\n",
    "# ax.set_facecolor(np.array(sns.cubehelix_palette(start=26/10, light=.97, n_colors=5))[0])\n",
    "sns.move_legend(ax, 'upper left', frameon=False)\n",
    "ax.set_xlim(mn, 250)\n",
    "plt.xlabel(r'$M_{\\tau\\tau}$ [GeV]')\n",
    "\n",
    "annot_txt = r'\\textbf{Collinear Approximation}'\n",
    "annot_txt += '\\n'\n",
    "annot_txt += r'Reconstruction of $M_{\\tau\\tau}$'\n",
    "annot_txt += '\\n'\n",
    "annot_txt += r'$\\epsilon_s=0.7$'\n",
    "\n",
    "ax.text(0.98, .95,\n",
    "        s=annot_txt, \n",
    "        transform=ax.transAxes,\n",
    "        horizontalalignment='right',\n",
    "        verticalalignment='top',\n",
    "       fontsize=16)\n",
    "\n",
    "\n",
    "plt.savefig('figures/mtt_hist.pdf',  bbox_inches='tight')"
   ]
  },
  {
   "cell_type": "code",
   "execution_count": 13,
   "metadata": {},
   "outputs": [
    {
     "name": "stdout",
     "output_type": "stream",
     "text": [
      "0.0\n"
     ]
    },
    {
     "data": {
      "image/png": "[encoded data removed]",
      "text/plain": [
       "<Figure size 576x360 with 1 Axes>"
      ]
     },
     "metadata": {},
     "output_type": "display_data"
    }
   ],
   "source": [
    "import bisect \n",
    "\n",
    "location = bisect.bisect_left(tpr, 0.7)\n",
    "cutoff = thresholds[location]\n",
    "\n",
    "quantized_yhat = np.array([true<cutoff for (true, false) in yhat_test])\n",
    "assert(len(y_test_roc) == len(quantized_yhat))\n",
    "cut_signal = np.array([(bool(quantized_yhat[i]) and bool(y_test_roc[i])) for i in range(len(yhat_test))])\n",
    "cut_background = np.array([quantized_yhat[i] and (not y_test_roc[i]) for i in range(len(yhat_test))])\n",
    "\n",
    "ditau_mass = np.array([event[-1] for event in X_test_ATLAS])\n",
    "\n",
    "import pandas as pd\n",
    "\n",
    "data1 = pd.DataFrame({'Signal': ditau_mass[cut_signal]})\n",
    "data2 = pd.DataFrame({'Background':ditau_mass[cut_background]})\n",
    "data = pd.concat([data1, data2], axis=1) \n",
    "# data = data1\n",
    "\n",
    "#dropping nan\n",
    "hasnan = np.array([np.isnan(event[-1]) for event in X_test_ATLAS])\n",
    "print(sum(hasnan)/len(hasnan))\n",
    "\n",
    "plt.rcParams['font.family'] = 'serif'\n",
    "matplotlib.rcParams['text.usetex'] = True\n",
    "plt.figure(figsize=(8,5))\n",
    "# mask = [False, True, False,True,False]\n",
    "# cmap = np.array(sns.cubehelix_palette(start=26/10, light=.97, n_colors=5))[mask][::-1]\n",
    "cmap = ['r', 'b']\n",
    "# cmap = ['r']\n",
    "mn = min(ditau_mass)\n",
    "sns.set_style('white')\n",
    "# sns.set_palette(sns.color_palette([ '#94d2bd', '#005f73']))\n",
    "\n",
    "plt.rcParams['font.family'] = 'serif'\n",
    "plt.rcParams['font.size'] = 18\n",
    "plt.rcParams['figure.autolayout'] = True\n",
    "\n",
    "\n",
    "ax = sns.histplot(data=data, legend=True, multiple='stack',fill=True, bins=25, binrange=(0,250), palette=cmap )\n",
    "# ax.set_facecolor(np.array(sns.cubehelix_palette(start=26/10, light=.97, n_colors=5))[0])\n",
    "sns.move_legend(ax, 'upper left', frameon=False)\n",
    "ax.set_xlim(mn, 250)\n",
    "plt.xlabel(r'$M_{\\tau\\tau}$ [GeV]')\n",
    "\n",
    "annot_txt = r'\\textbf{Collinear Approximation}'\n",
    "annot_txt += '\\n'\n",
    "annot_txt += r'Reconstruction of $M_{\\tau\\tau}$'\n",
    "annot_txt += '\\n'\n",
    "annot_txt += r'$\\epsilon_s=0.7$'\n",
    "annot_txt += '\\n'\n",
    "annot_txt += r'\\textbf{Failed Cut}'\n",
    "\n",
    "ax.text(0.98, .95,\n",
    "        s=annot_txt, \n",
    "        transform=ax.transAxes,\n",
    "        horizontalalignment='right',\n",
    "        verticalalignment='top',\n",
    "       fontsize=16)\n",
    "\n",
    "\n",
    "plt.savefig('figures/mtt_hist_failed.pdf',  bbox_inches='tight')"
   ]
  },
  {
   "cell_type": "code",
   "execution_count": 107,
   "metadata": {},
   "outputs": [
    {
     "name": "stdout",
     "output_type": "stream",
     "text": [
      "0.0\n",
      "0.0\n"
     ]
    },
    {
     "data": {
      "image/png": "[encoded data removed]",
      "text/plain": [
       "<Figure size 1080x360 with 2 Axes>"
      ]
     },
     "metadata": {},
     "output_type": "display_data"
    },
    {
     "data": {
      "text/plain": [
       "<Figure size 576x360 with 0 Axes>"
      ]
     },
     "metadata": {},
     "output_type": "display_data"
    },
    {
     "data": {
      "text/plain": [
       "<Figure size 576x360 with 0 Axes>"
      ]
     },
     "metadata": {},
     "output_type": "display_data"
    }
   ],
   "source": [
    "import bisect \n",
    "\n",
    "plt.rcParams['font.size'] = 17\n",
    "\n",
    "# fig, ((ax1, ax2), (ax3, ax4)) = plt.subplots(2, 2, figsize=(15,10), sharey=True, sharex=True)\n",
    "fig, (ax1,ax2) = plt.subplots(1, 2, figsize=(15,5), sharey=True, sharex=True)\n",
    "\n",
    "location = bisect.bisect_left(tpr, 0.7)\n",
    "cutoff = thresholds[location]\n",
    "\n",
    "quantized_yhat = np.array([true>cutoff for (true, false) in yhat_test])\n",
    "assert(len(y_test_roc) == len(quantized_yhat))\n",
    "cut_signal_pass = np.array([(bool(quantized_yhat[i]) and bool(y_test_roc[i])) for i in range(len(yhat_test))])\n",
    "cut_signal_fail = np.array([not quantized_yhat[i] and bool(y_test_roc[i]) for i in range(len(yhat_test))])\n",
    "\n",
    "ditau_mass = np.array([event[-1] for event in X_test_ATLAS])\n",
    "\n",
    "import pandas as pd\n",
    "\n",
    "data1 = pd.DataFrame({r'$t\\overline{t}H$/$t\\overline{t}H$': ditau_mass[cut_signal_pass]})\n",
    "data2 = pd.DataFrame({r'$t\\overline{t}H$/$t\\overline{t}$':ditau_mass[cut_signal_fail]})\n",
    "data = pd.concat([data1, data2], axis=1) \n",
    "# data = data1\n",
    "\n",
    "#dropping nan\n",
    "hasnan = np.array([np.isnan(event[-1]) for event in X_test_ATLAS])\n",
    "print(sum(hasnan)/len(hasnan))\n",
    "\n",
    "plt.rcParams['font.family'] = 'serif'\n",
    "matplotlib.rcParams['text.usetex'] = True\n",
    "plt.figure(figsize=(8,5))\n",
    "mask = [False, True, False,True,False]\n",
    "cmap = np.array(sns.cubehelix_palette(start=26/10, light=.97, n_colors=5))[mask][::-1]\n",
    "# cmap = ['r', 'b']\n",
    "# cmap = ['r']\n",
    "mn = min(ditau_mass)\n",
    "sns.set_style('white')\n",
    "# sns.set_palette(sns.color_palette([ '#94d2bd', '#005f73']))\n",
    "\n",
    "plt.rcParams['font.family'] = 'serif'\n",
    "plt.rcParams['figure.autolayout'] = True\n",
    "\n",
    "\n",
    "ax = sns.histplot(data=data, legend=True, multiple='layer',fill=True, alpha=0.9, ax=ax1, edgecolor = 'black', bins=27, binrange=(0,270), palette=cmap ,common_norm=False,stat=\"density\")\n",
    "ax.set_facecolor(np.array(sns.cubehelix_palette(start=26/10, light=.97, n_colors=5))[0])\n",
    "sns.move_legend(ax, 'upper left', frameon=False, title=r'True/\\texttt{Predicted}')\n",
    "ax.set_xlim(mn, 270)\n",
    "ax1.set_xlabel(r'$M_{\\tau\\tau}$ [GeV]')\n",
    "\n",
    "annot_txt = r'\\textbf{Collinear Approximation}'\n",
    "annot_txt += '\\n'\n",
    "annot_txt += r'Reconstruction of $M_{\\tau\\tau}$'\n",
    "annot_txt += '\\n'\n",
    "annot_txt += r'\\texttt{Pairwise Architecture}'\n",
    "annot_txt += '\\n'\n",
    "annot_txt += r'$\\ell=2^6$, $\\epsilon_s=0.7$'\n",
    "\n",
    "\n",
    "ax.text(0.98, .925,\n",
    "        s=annot_txt, \n",
    "        transform=ax.transAxes,\n",
    "        horizontalalignment='right',\n",
    "        verticalalignment='top')\n",
    "\n",
    "\n",
    "import bisect \n",
    "\n",
    "location = bisect.bisect_left(tpr, 0.7)\n",
    "cutoff = thresholds[location]\n",
    "\n",
    "quantized_yhat = np.array([true>cutoff for (true, false) in yhat_test])\n",
    "assert(len(y_test_roc) == len(quantized_yhat))\n",
    "cut_bg_pass = np.array([(bool(quantized_yhat[i]) and not bool(y_test_roc[i])) for i in range(len(yhat_test))])\n",
    "cut_bg_fail = np.array([not quantized_yhat[i] and not bool(y_test_roc[i]) for i in range(len(yhat_test))])\n",
    "\n",
    "ditau_mass = np.array([event[-1] for event in X_test_ATLAS])\n",
    "\n",
    "import pandas as pd\n",
    "\n",
    "data1 = pd.DataFrame({r'$t\\overline{t}$/$t\\overline{t}H$': ditau_mass[cut_bg_pass]})\n",
    "data2 = pd.DataFrame({r'$t\\overline{t}$/$t\\overline{t}$':ditau_mass[cut_bg_fail]})\n",
    "data = pd.concat([data1, data2], axis=1) \n",
    "# data = data1\n",
    "\n",
    "#dropping nan\n",
    "hasnan = np.array([np.isnan(event[-1]) for event in X_test_ATLAS])\n",
    "print(sum(hasnan)/len(hasnan))\n",
    "\n",
    "plt.rcParams['font.family'] = 'serif'\n",
    "matplotlib.rcParams['text.usetex'] = True\n",
    "plt.figure(figsize=(8,5))\n",
    "mask = [False, True, False,True,False]\n",
    "cmap = np.array(sns.cubehelix_palette(start=26/10, light=.97, n_colors=5))[mask][::-1]\n",
    "# cmap = ['r', 'b']\n",
    "# cmap = ['r']\n",
    "mn = min(ditau_mass)\n",
    "sns.set_style('white')\n",
    "sns.set_palette(sns.color_palette([ '#94d2bd', '#005f73']))\n",
    "\n",
    "plt.rcParams['font.family'] = 'serif'\n",
    "plt.rcParams['figure.autolayout'] = True\n",
    "\n",
    "\n",
    "ax = sns.histplot(data=data, legend=True, multiple='layer',fill=True, alpha=0.9,  edgecolor = 'black', bins=27, ax=ax2, binrange=(0,270),common_norm=False, palette=cmap ,stat=\"density\")\n",
    "ax.set_facecolor(np.array(sns.cubehelix_palette(start=26/10, light=.97, n_colors=5))[0])\n",
    "sns.move_legend(ax, 'upper left', frameon=False, title=r'True/\\texttt{Predicted}')\n",
    "ax.set_xlim(mn, 270)\n",
    "ax2.set_xlabel(r'$M_{\\tau\\tau}$ [GeV]')\n",
    "\n",
    "annot_txt = r'\\textbf{Collinear Approximation}'\n",
    "annot_txt += '\\n'\n",
    "annot_txt += r'Reconstruction of $M_{\\tau\\tau}$'\n",
    "annot_txt += '\\n'\n",
    "annot_txt += r'\\texttt{Pairwise Architecture}'\n",
    "annot_txt += '\\n'\n",
    "annot_txt += r'$\\ell=2^6$, $\\epsilon_s=0.7$'\n",
    "\n",
    "ax.text(0.98, .925,\n",
    "        s=annot_txt, \n",
    "        transform=ax.transAxes,\n",
    "        horizontalalignment='right',\n",
    "        verticalalignment='top')\n",
    "\n",
    "fig.savefig('figures/mTT_histograms.pdf', bbox_inches='tight')"
   ]
  },
  {
   "cell_type": "code",
   "execution_count": 75,
   "metadata": {},
   "outputs": [
    {
     "data": {
      "text/html": [
       "<svg  width=\"550\" height=\"55\"><rect x=\"0\" y=\"0\" width=\"55\" height=\"55\" style=\"fill:#fdf6f8;stroke-width:2;stroke:rgb(255,255,255)\"/><rect x=\"55\" y=\"0\" width=\"55\" height=\"55\" style=\"fill:#f3d6e4;stroke-width:2;stroke:rgb(255,255,255)\"/><rect x=\"110\" y=\"0\" width=\"55\" height=\"55\" style=\"fill:#e4b9d7;stroke-width:2;stroke:rgb(255,255,255)\"/><rect x=\"165\" y=\"0\" width=\"55\" height=\"55\" style=\"fill:#ce9fcc;stroke-width:2;stroke:rgb(255,255,255)\"/><rect x=\"220\" y=\"0\" width=\"55\" height=\"55\" style=\"fill:#b487c0;stroke-width:2;stroke:rgb(255,255,255)\"/><rect x=\"275\" y=\"0\" width=\"55\" height=\"55\" style=\"fill:#9372b0;stroke-width:2;stroke:rgb(255,255,255)\"/><rect x=\"330\" y=\"0\" width=\"55\" height=\"55\" style=\"fill:#72609c;stroke-width:2;stroke:rgb(255,255,255)\"/><rect x=\"385\" y=\"0\" width=\"55\" height=\"55\" style=\"fill:#524e82;stroke-width:2;stroke:rgb(255,255,255)\"/><rect x=\"440\" y=\"0\" width=\"55\" height=\"55\" style=\"fill:#333c61;stroke-width:2;stroke:rgb(255,255,255)\"/><rect x=\"495\" y=\"0\" width=\"55\" height=\"55\" style=\"fill:#1a283d;stroke-width:2;stroke:rgb(255,255,255)\"/></svg>"
      ],
      "text/plain": [
       "[[0.9916317048386659, 0.9629863063924895, 0.9717964294742405],\n",
       " [0.9517873868690188, 0.8379977155956869, 0.8952417562597554],\n",
       " [0.89244129693805, 0.725066969037848, 0.8428503563347693],\n",
       " [0.8096912333257994, 0.6223953261194461, 0.7992616984891908],\n",
       " [0.7051041971473753, 0.5313373983569789, 0.7529364480025548],\n",
       " [0.5784027465671608, 0.4477964521315274, 0.6909540130783747],\n",
       " [0.4485180338047869, 0.3758194109789229, 0.6112790502557761],\n",
       " [0.3201235555555555, 0.3073537777777778, 0.5087057777777777],\n",
       " [0.19828558825992854, 0.23399608569634114, 0.37883967881118075],\n",
       " [0.10186742743270723, 0.15630312890665732, 0.2385503673654702]]"
      ]
     },
     "execution_count": 75,
     "metadata": {},
     "output_type": "execute_result"
    }
   ],
   "source": [
    "sns.cubehelix_palette(start=26/10, light=.97, n_colors=10)"
   ]
  },
  {
   "cell_type": "code",
   "execution_count": 63,
   "metadata": {},
   "outputs": [
    {
     "name": "stdout",
     "output_type": "stream",
     "text": [
      "0.0\n",
      "0.0\n"
     ]
    },
    {
     "data": {
      "text/plain": [
       "<Figure size 576x360 with 0 Axes>"
      ]
     },
     "metadata": {},
     "output_type": "display_data"
    },
    {
     "data": {
      "text/plain": [
       "<Figure size 576x360 with 0 Axes>"
      ]
     },
     "metadata": {},
     "output_type": "display_data"
    }
   ],
   "source": [
    "\n",
    "location = bisect.bisect_left(tpr, 0.3)\n",
    "cutoff = thresholds[location]\n",
    "\n",
    "quantized_yhat = np.array([true>cutoff for (true, false) in yhat_test])\n",
    "assert(len(y_test_roc) == len(quantized_yhat))\n",
    "cut_signal_pass = np.array([(bool(quantized_yhat[i]) and bool(y_test_roc[i])) for i in range(len(yhat_test))])\n",
    "cut_signal_fail = np.array([not quantized_yhat[i] and bool(y_test_roc[i]) for i in range(len(yhat_test))])\n",
    "\n",
    "ditau_mass = np.array([event[-1] for event in X_test_ATLAS])\n",
    "\n",
    "import pandas as pd\n",
    "\n",
    "data1 = pd.DataFrame({r'$t\\overline{t}H$/$t\\overline{t}H$': ditau_mass[cut_signal_pass]})\n",
    "data2 = pd.DataFrame({r'$t\\overline{t}H$/$t\\overline{t}$':ditau_mass[cut_signal_fail]})\n",
    "data = pd.concat([data1, data2], axis=1) \n",
    "# data = data1\n",
    "\n",
    "#dropping nan\n",
    "hasnan = np.array([np.isnan(event[-1]) for event in X_test_ATLAS])\n",
    "print(sum(hasnan)/len(hasnan))\n",
    "\n",
    "plt.rcParams['font.family'] = 'serif'\n",
    "matplotlib.rcParams['text.usetex'] = True\n",
    "plt.figure(figsize=(8,5))\n",
    "# mask = [False, True, False,True,False]\n",
    "# cmap = np.array(sns.cubehelix_palette(start=26/10, light=.97, n_colors=5))[mask][::-1]\n",
    "cmap = ['r', 'b']\n",
    "# cmap = ['r']\n",
    "mn = min(ditau_mass)\n",
    "sns.set_style('white')\n",
    "sns.set_palette(sns.color_palette([ '#94d2bd', '#005f73']))\n",
    "\n",
    "plt.rcParams['font.family'] = 'serif'\n",
    "plt.rcParams['font.size'] = 16\n",
    "plt.rcParams['figure.autolayout'] = True\n",
    "\n",
    "\n",
    "ax = sns.histplot(data=data, legend=True, multiple='layer',fill=True, ax=ax3, bins=25, binrange=(0,250), palette=cmap ,common_norm=False,stat=\"density\")\n",
    "ax.set_facecolor(np.array(sns.cubehelix_palette(start=26/10, light=.97, n_colors=5))[0])\n",
    "sns.move_legend(ax, 'upper left', frameon=False, title='True/Predicted Label')\n",
    "ax.set_xlim(mn, 250)\n",
    "ax3.set_xlabel(r'$M_{\\tau\\tau}$ [GeV]')\n",
    "\n",
    "annot_txt = r'\\textbf{Collinear Approximation}'\n",
    "annot_txt += '\\n'\n",
    "annot_txt += r'Reconstruction of $M_{\\tau\\tau}$'\n",
    "annot_txt += '\\n'\n",
    "annot_txt += r'\\texttt{Pairwise Architecture}'\n",
    "annot_txt += '\\n'\n",
    "annot_txt += r'$\\epsilon_s=0.3$'\n",
    "\n",
    "\n",
    "ax.text(0.98, .95,\n",
    "        s=annot_txt, \n",
    "        transform=ax.transAxes,\n",
    "        horizontalalignment='right',\n",
    "        verticalalignment='top',\n",
    "       fontsize=16)\n",
    "\n",
    "\n",
    "import bisect \n",
    "\n",
    "location = bisect.bisect_left(tpr, 0.3)\n",
    "cutoff = thresholds[location]\n",
    "\n",
    "quantized_yhat = np.array([true>cutoff for (true, false) in yhat_test])\n",
    "assert(len(y_test_roc) == len(quantized_yhat))\n",
    "cut_bg_pass = np.array([(bool(quantized_yhat[i]) and not bool(y_test_roc[i])) for i in range(len(yhat_test))])\n",
    "cut_bg_fail = np.array([not quantized_yhat[i] and not bool(y_test_roc[i]) for i in range(len(yhat_test))])\n",
    "\n",
    "ditau_mass = np.array([event[-1] for event in X_test_ATLAS])\n",
    "\n",
    "import pandas as pd\n",
    "\n",
    "data1 = pd.DataFrame({r'$t\\overline{t}$/$t\\overline{t}H$': ditau_mass[cut_bg_pass]})\n",
    "data2 = pd.DataFrame({r'$t\\overline{t}$/$t\\overline{t}$':ditau_mass[cut_bg_fail]})\n",
    "data = pd.concat([data1, data2], axis=1) \n",
    "# data = data1\n",
    "\n",
    "#dropping nan\n",
    "hasnan = np.array([np.isnan(event[-1]) for event in X_test_ATLAS])\n",
    "print(sum(hasnan)/len(hasnan))\n",
    "\n",
    "plt.rcParams['font.family'] = 'serif'\n",
    "matplotlib.rcParams['text.usetex'] = True\n",
    "plt.figure(figsize=(8,5))\n",
    "# mask = [False, True, False,True,False]\n",
    "# cmap = np.array(sns.cubehelix_palette(start=26/10, light=.97, n_colors=5))[mask][::-1]\n",
    "cmap = ['r', 'b']\n",
    "# cmap = ['r']\n",
    "mn = min(ditau_mass)\n",
    "sns.set_style('white')\n",
    "sns.set_palette(sns.color_palette([ '#94d2bd', '#005f73']))\n",
    "\n",
    "plt.rcParams['font.family'] = 'serif'\n",
    "plt.rcParams['font.size'] = 16\n",
    "plt.rcParams['figure.autolayout'] = True\n",
    "\n",
    "\n",
    "ax = sns.histplot(data=data, legend=True, multiple='layer',fill=True, bins=25, ax=ax4, binrange=(0,250),common_norm=False, palette=cmap ,stat=\"density\")\n",
    "# ax.set_facecolor(np.array(sns.cubehelix_palette(start=26/10, light=.97, n_colors=5))[0])\n",
    "sns.move_legend(ax, 'upper left', frameon=False, title=\"True/Predicted Label\")\n",
    "ax.set_xlim(mn, 250)\n",
    "ax4.set_xlabel(r'$M_{\\tau\\tau}$ [GeV]')\n",
    "\n",
    "annot_txt = r'\\textbf{Collinear Approximation}'\n",
    "annot_txt += '\\n'\n",
    "annot_txt += r'Reconstruction of $M_{\\tau\\tau}$'\n",
    "annot_txt += '\\n'\n",
    "annot_txt += r'\\texttt{Pairwise Architecture}'\n",
    "annot_txt += '\\n'\n",
    "annot_txt += r'$\\epsilon_s=0.3$'\n",
    "\n",
    "ax.text(0.98, .95,\n",
    "        s=annot_txt, \n",
    "        transform=ax.transAxes,\n",
    "        horizontalalignment='right',\n",
    "        verticalalignment='top',\n",
    "       fontsize=16)\n",
    "\n",
    "\n",
    "fig.savefig('figures/mTT_histograms.pdf', bbox_inches='tight')"
   ]
  },
  {
   "cell_type": "code",
   "execution_count": null,
   "metadata": {},
   "outputs": [],
   "source": []
  }
 ],
 "metadata": {
  "kernelspec": {
   "display_name": "pcec",
   "language": "python",
   "name": "pcec"
  },
  "language_info": {
   "codemirror_mode": {
    "name": "ipython",
    "version": 3
   },
   "file_extension": ".py",
   "mimetype": "text/x-python",
   "name": "python",
   "nbconvert_exporter": "python",
   "pygments_lexer": "ipython3",
   "version": "3.8.13"
  }
 },
 "nbformat": 4,
 "nbformat_minor": 2
}
