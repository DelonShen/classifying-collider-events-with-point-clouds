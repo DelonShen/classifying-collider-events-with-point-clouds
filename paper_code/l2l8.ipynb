{
 "cells": [
  {
   "cell_type": "code",
   "execution_count": 1,
   "metadata": {},
   "outputs": [
    {
     "name": "stderr",
     "output_type": "stream",
     "text": [
      "ERROR in cling::CIFactory::createCI(): cannot extract standard library include paths!\n",
      "Invoking:\n",
      "  LC_ALL=C x86_64-conda-linux-gnu-c++  -O3 -DNDEBUG -xc++ -E -v /dev/null 2>&1 | sed -n -e '/^.include/,${' -e '/^ \\/.*++/p' -e '}'\n",
      "Results was:\n",
      "With exit code 0\n"
     ]
    },
    {
     "name": "stdout",
     "output_type": "stream",
     "text": [
      "Welcome to JupyROOT 6.22/08\n"
     ]
    },
    {
     "name": "stderr",
     "output_type": "stream",
     "text": [
      "2022-06-01 12:38:15.635894: W tensorflow/stream_executor/platform/default/dso_loader.cc:64] Could not load dynamic library 'libcudart.so.11.0'; dlerror: libcudart.so.11.0: cannot open shared object file: No such file or directory\n",
      "2022-06-01 12:38:15.635941: I tensorflow/stream_executor/cuda/cudart_stub.cc:29] Ignore above cudart dlerror if you do not have a GPU set up on your machine.\n"
     ]
    }
   ],
   "source": [
    "import sys\n",
    "sys.path.insert(1, '../')\n",
    "\n",
    "import experiment\n",
    "import pickle\n",
    "from utils import *\n",
    "from Architectures import *\n",
    "import random, os\n",
    "suppress_warnings()\n",
    "EPOCHS = 256\n",
    "\n",
    "\n",
    "def countp(model, params):\n",
    "    tmp = model(**params)\n",
    "    tmp.build(input_shape=(1,15,7))\n",
    "    return tmp.count_params()\n",
    "\n",
    "\n",
    "n_params = []\n",
    "\n",
    "os.environ['PYTHONHASHSEED']=str(0)\n",
    "tf.random.set_seed(42)\n",
    "np.random.seed(42)\n",
    "random.seed(42)\n",
    "\n",
    "def human_format(num):\n",
    "    magnitude = 0\n",
    "    while abs(num) >= 1000:\n",
    "        magnitude += 1\n",
    "        num /= 1000.0\n",
    "    # add more suffixes if you need them\n",
    "    return '%.0f%s' % (num, ['', 'K', 'M', 'G', 'T', 'P'][magnitude])\n",
    "\n",
    "\n",
    "filename = '../data/data100k_raw_combined_atlas_cut.pkl'\n",
    "n_experiments = 8\n",
    "SUFFIX = '_latent_dim_edge_AeqB_only_1_2'\n",
    "\n",
    "\n",
    "#TESTING ######\n",
    "# EPOCHS = 2\n",
    "# filename = '../data/data50k_raw_combined_atlas_cut_small.pkl'\n",
    "# n_experiments = 2\n",
    "# SUFFIX = '_latent_dim_edge_TEST'\n",
    "###########"
   ]
  },
  {
   "cell_type": "code",
   "execution_count": 2,
   "metadata": {},
   "outputs": [
    {
     "name": "stdout",
     "output_type": "stream",
     "text": [
      "Initializing Experimenter\n",
      "\tLoading Data from ../data/data100k_raw_combined_atlas_cut.pkl\n",
      "\tData Loaded\n",
      "\tCreating Splits\n",
      "\tSplits Created\n",
      "Done initalizing\n"
     ]
    }
   ],
   "source": [
    "PI = experiment.Experimenter(filename)"
   ]
  },
  {
   "cell_type": "code",
   "execution_count": 3,
   "metadata": {},
   "outputs": [
    {
     "name": "stderr",
     "output_type": "stream",
     "text": [
      "2022-06-01 12:40:31.634024: W tensorflow/stream_executor/platform/default/dso_loader.cc:64] Could not load dynamic library 'libcuda.so.1'; dlerror: libcuda.so.1: cannot open shared object file: No such file or directory\n",
      "2022-06-01 12:40:31.634564: W tensorflow/stream_executor/cuda/cuda_driver.cc:326] failed call to cuInit: UNKNOWN ERROR (303)\n",
      "2022-06-01 12:40:31.634621: I tensorflow/stream_executor/cuda/cuda_diagnostics.cc:156] kernel driver does not appear to be running on this host (top1.hep.utexas.edu): /proc/driver/nvidia/version does not exist\n",
      "2022-06-01 12:40:31.636088: I tensorflow/core/platform/cpu_feature_guard.cc:142] This TensorFlow binary is optimized with oneAPI Deep Neural Network Library (oneDNN) to use the following CPU instructions in performance-critical operations:  AVX2 FMA\n",
      "To enable them in other operations, rebuild TensorFlow with the appropriate compiler flags.\n"
     ]
    }
   ],
   "source": [
    "PI.data_loader('pairwise', gen_multijet_to_inv_dataset, class_weight_invariant, tf.constant, aux_params=dict(dR_keep=False, multijet_n=1))"
   ]
  },
  {
   "cell_type": "code",
   "execution_count": null,
   "metadata": {},
   "outputs": [],
   "source": [
    "%%capture output\n",
    "from datetime import datetime\n",
    "\n",
    "import bisect \n",
    "\n",
    "scan = [1,3]\n",
    "for i in scan:\n",
    "    curr_auc = []\n",
    "    print(\"\\t\\tLATENT DIM\", 2**i)\n",
    "    j=0\n",
    "    tf.random.set_seed(42+j)\n",
    "    np.random.seed(42+j)\n",
    "    random.seed(42+j)\n",
    "    tail_string = PI.get_tail_string({'depth':5, 'ec_widths':(64,128,256,128,2**i), 'width':64})\n",
    "    classifier_name = '%s_%s'%('pairwise', tail_string)\n",
    "\n",
    "    PI.train_classifier('pairwise', {'depth':5, 'ec_widths':(64,128,256,128,2**i), 'width':64}, epochs=EPOCHS, seed=42+j)"
   ]
  },
  {
   "cell_type": "code",
   "execution_count": null,
   "metadata": {},
   "outputs": [],
   "source": [
    "output.show()"
   ]
  },
  {
   "cell_type": "code",
   "execution_count": null,
   "metadata": {},
   "outputs": [],
   "source": [
    "latent2 = PI.models['pairwise_5_(64, 128, 256, 128, 2)_64']\n",
    "latent8 = PI.models['pairwise_5_(64, 128, 256, 128, 8)_64']"
   ]
  },
  {
   "cell_type": "code",
   "execution_count": null,
   "metadata": {},
   "outputs": [],
   "source": [
    "import seaborn as sns\n",
    "def gen_tsne(curr_event, latent_label, text=r'\\textbf{Latent Representation} in Pairwise Architecture'):\n",
    "    c_cut = 5\n",
    "    cmap = sns.cubehelix_palette(start=26/10, light=.97, as_cmap=True)\n",
    "\n",
    "    plt.rcParams['font.family'] = 'serif'\n",
    "    plt.rcParams['font.size'] = 16\n",
    "    plt.rcParams['figure.autolayout'] = False\n",
    "    plt.rcParams['text.usetex'] = True\n",
    "\n",
    "    ttH_loc = np.array([curr_event[i] for i in range(len(latent_label)) if latent_label[i][1]==1])\n",
    "    g = sns.jointplot(x=ttH_loc[:,0], y = ttH_loc[:,1], color=cmap(100), space=0, label='ttH jets',\n",
    "                      cmap=cmap, kind='kde', height=10, fill=True, cut=c_cut,\n",
    "                     marginal_kws={'linewidth': 0.0, 'alpha':1.0})\n",
    "\n",
    "    COL2 = '#000000'\n",
    "    linew = 0.6\n",
    "    nttH_loc = np.array([curr_event[i] for i in range(len(latent_label)) if latent_label[i][0]==1])\n",
    "    sns.kdeplot(x=nttH_loc[:,0], y = nttH_loc[:,1], shade=False, label=r'ttbar jets',color=COL2, linewidths=linew, cut=c_cut, \n",
    "                levels=10, ax=g.ax_joint)\n",
    "\n",
    "    sns.kdeplot(nttH_loc[:,0], ax=g.ax_marg_x, color=COL2, lw=linew)\n",
    "    sns.kdeplot(y=nttH_loc[:,1], ax=g.ax_marg_y, color=COL2, lw=linew)\n",
    "\n",
    "    ax = g.ax_joint\n",
    "\n",
    "    import matplotlib.patches as  mpatches\n",
    "    import matplotlib.lines as  mlines\n",
    "\n",
    "    handles = [mpatches.Patch(facecolor=cmap(100), label=r'$tt(H\\rightarrow\\tau\\tau)$ Events'),\n",
    "               mlines.Line2D([], [], color=COL2, label=r'$t\\overline{t}$ Events', lw=linew)]\n",
    "    legend = ax.legend(loc='upper left', handles=handles, frameon=False, title=text)\n",
    "    legend._legend_box.align = 'left'\n",
    "    plt.setp(legend.get_texts(), color=cmap(0.98))\n",
    "    plt.rcParams['font.family'] = 'serif'\n",
    "    plt.rcParams['font.size'] = 16\n",
    "    plt.rcParams['figure.autolayout'] = True\n",
    "\n",
    "\n",
    "\n",
    "    ax.set_facecolor(cmap(c_cut))\n",
    "    ax.get_xaxis().set_visible(False)\n",
    "    ax.get_yaxis().set_visible(False)\n",
    "    g.ax_marg_y.get_yaxis().set_visible(False)\n",
    "    g.ax_marg_x.get_xaxis().set_visible(False)\n",
    "    return g\n",
    "\n",
    "import os\n",
    "\n",
    "#to get latex to work \n",
    "os.environ['PATH'] = \"%s:/usr/local/cuda-11.2/bin:/usr/local/bin:/usr/bin:/usr/local/sbin:/usr/sbin:/opt/anaconda/bin:/home/delon/texlive/bin/x86_64-linux:/home/delon/.local/bin:/home/delon/bin\"%os.environ['PATH']\n",
    "\n"
   ]
  },
  {
   "cell_type": "code",
   "execution_count": null,
   "metadata": {},
   "outputs": [],
   "source": [
    "X_test, y_test = PI.get_test_dataset('pairwise')"
   ]
  },
  {
   "cell_type": "code",
   "execution_count": null,
   "metadata": {},
   "outputs": [],
   "source": [
    "n_cut = int(len(X_test)*0.5)\n",
    "indices = np.random.permutation(len(X_test))\n",
    "cut = np.s_[indices[:n_cut]]\n",
    "latent_label = y_test.numpy()[cut]"
   ]
  },
  {
   "cell_type": "code",
   "execution_count": null,
   "metadata": {},
   "outputs": [],
   "source": [
    "from sklearn.manifold import TSNE\n",
    "from sklearn.metrics import pairwise_distances\n",
    "def compute_tsne_embedded(latent_reps, perplexity=50):\n",
    "    distance_matrix = pairwise_distances(latent_reps, latent_reps, metric='cosine', n_jobs=-1)\n",
    "    latent_reps_embedded_tsne = TSNE(metric=\"precomputed\", n_components=2, learning_rate='auto', \n",
    "                                      verbose=2, perplexity=perplexity, \n",
    "                                     n_iter=2000, n_jobs=-1)\n",
    "    latent_reps_embedded = latent_reps_embedded_tsne.fit_transform(distance_matrix)\n",
    "    return latent_reps_embedded\n",
    "\n",
    "def compute_tsne(model, perplexity=50):\n",
    "    latent_getter = LatentGetter(model.layers[0:3], condensed=True)\n",
    "    latent_reps = latent_getter.predict(X_test.numpy()[cut])\n",
    "    return compute_tsne_embedded(latent_reps, perplexity=perplexity)"
   ]
  },
  {
   "cell_type": "code",
   "execution_count": null,
   "metadata": {},
   "outputs": [],
   "source": [
    "latent2_embedded = compute_tsne(latent2)"
   ]
  },
  {
   "cell_type": "code",
   "execution_count": null,
   "metadata": {},
   "outputs": [],
   "source": [
    "ax = gen_tsne(latent2_embedded, latent_label, text=r'\\textbf{Latent Representation} in $\\ell=2$ Pairwise Architecture')\n",
    "ax.savefig('figures/l2_tsne.pdf')"
   ]
  },
  {
   "cell_type": "code",
   "execution_count": null,
   "metadata": {},
   "outputs": [],
   "source": [
    "latent8_embedded = compute_tsne(latent8)\n",
    "ax = gen_tsne(latent8_embedded, latent_label, text=r'\\textbf{Latent Representation} in $\\ell=2^3$ Pairwise Architecture')\n",
    "ax.savefig('figures/l8_tsne.pdf')"
   ]
  },
  {
   "cell_type": "code",
   "execution_count": null,
   "metadata": {},
   "outputs": [],
   "source": [
    "X_test_ATLAS, y_test_ATLAS = gen_dataset_high_level(PI.events_test, PI.events_oup_test, PI.events_tag_test)"
   ]
  },
  {
   "cell_type": "code",
   "execution_count": null,
   "metadata": {},
   "outputs": [],
   "source": [
    "ATLAS_embedded = compute_tsne_embedded(np.array(X_test_ATLAS)[cut])"
   ]
  },
  {
   "cell_type": "code",
   "execution_count": null,
   "metadata": {},
   "outputs": [],
   "source": [
    "ax = gen_tsne(ATLAS_embedded, latent_label, text=r'\\textbf{Latent Representation} in ATLAS Features')\n",
    "ax.savefig('figures/ATLAS_tsne.pdf')"
   ]
  },
  {
   "cell_type": "code",
   "execution_count": null,
   "metadata": {},
   "outputs": [],
   "source": []
  },
  {
   "cell_type": "code",
   "execution_count": null,
   "metadata": {},
   "outputs": [],
   "source": []
  }
 ],
 "metadata": {
  "kernelspec": {
   "display_name": "pcec",
   "language": "python",
   "name": "pcec"
  },
  "language_info": {
   "codemirror_mode": {
    "name": "ipython",
    "version": 3
   },
   "file_extension": ".py",
   "mimetype": "text/x-python",
   "name": "python",
   "nbconvert_exporter": "python",
   "pygments_lexer": "ipython3",
   "version": "3.8.13"
  }
 },
 "nbformat": 4,
 "nbformat_minor": 2
}
