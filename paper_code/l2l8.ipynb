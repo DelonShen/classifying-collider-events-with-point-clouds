{
 "cells": [
  {
   "cell_type": "code",
   "execution_count": 1,
   "metadata": {},
   "outputs": [],
   "source": [
    "%load_ext autoreload\n",
    "%autoreload 2"
   ]
  },
  {
   "cell_type": "code",
   "execution_count": 2,
   "metadata": {},
   "outputs": [
    {
     "name": "stderr",
     "output_type": "stream",
     "text": [
      "ERROR in cling::CIFactory::createCI(): cannot extract standard library include paths!\n",
      "Invoking:\n",
      "  LC_ALL=C x86_64-conda-linux-gnu-c++  -O3 -DNDEBUG -xc++ -E -v /dev/null 2>&1 | sed -n -e '/^.include/,${' -e '/^ \\/.*++/p' -e '}'\n",
      "Results was:\n",
      "With exit code 0\n"
     ]
    },
    {
     "name": "stdout",
     "output_type": "stream",
     "text": [
      "Welcome to JupyROOT 6.22/08\n"
     ]
    },
    {
     "name": "stderr",
     "output_type": "stream",
     "text": [
      "2022-07-12 18:01:09.781263: W tensorflow/stream_executor/platform/default/dso_loader.cc:64] Could not load dynamic library 'libcudart.so.11.0'; dlerror: libcudart.so.11.0: cannot open shared object file: No such file or directory\n",
      "2022-07-12 18:01:09.781301: I tensorflow/stream_executor/cuda/cudart_stub.cc:29] Ignore above cudart dlerror if you do not have a GPU set up on your machine.\n"
     ]
    }
   ],
   "source": [
    "import sys\n",
    "sys.path.insert(1, '../')\n",
    "\n",
    "import experiment\n",
    "import pickle\n",
    "from utils import *\n",
    "from Architectures import *\n",
    "import random, os\n",
    "suppress_warnings()\n",
    "EPOCHS = 256\n",
    "\n",
    "\n",
    "def countp(model, params):\n",
    "    tmp = model(**params)\n",
    "    tmp.build(input_shape=(1,15,7))\n",
    "    return tmp.count_params()\n",
    "\n",
    "\n",
    "n_params = []\n",
    "\n",
    "os.environ['PYTHONHASHSEED']=str(0)\n",
    "tf.random.set_seed(42)\n",
    "np.random.seed(42)\n",
    "random.seed(42)\n",
    "\n",
    "def human_format(num):\n",
    "    magnitude = 0\n",
    "    while abs(num) >= 1000:\n",
    "        magnitude += 1\n",
    "        num /= 1000.0\n",
    "    # add more suffixes if you need them\n",
    "    return '%.0f%s' % (num, ['', 'K', 'M', 'G', 'T', 'P'][magnitude])\n",
    "\n",
    "\n",
    "filename = '../data/data100k_raw_combined_atlas_cut.pkl'\n",
    "n_experiments = 8\n",
    "SUFFIX = 'latent28'\n",
    "\n",
    "\n",
    "#TESTING ######\n",
    "# EPOCHS = 2\n",
    "# filename = '../data/data50k_raw_combined_atlas_cut_small.pkl'\n",
    "# n_experiments = 2\n",
    "# SUFFIX = 'latent28'\n",
    "###########"
   ]
  },
  {
   "cell_type": "code",
   "execution_count": 3,
   "metadata": {},
   "outputs": [
    {
     "name": "stdout",
     "output_type": "stream",
     "text": [
      "Initializing Experimenter\n",
      "\tLoading Data from ../data/data100k_raw_combined_atlas_cut.pkl\n",
      "\tData Loaded\n",
      "\tCreating Splits\n",
      "\tSplits Created\n",
      "Done initalizing\n",
      "Loading Experimenter from Saved Experimenter at /data/delon/experimenter/data100k_raw_combined_atlas_cut\n",
      "Experimenter Loaded\n",
      "Getting split\n",
      "Split Stored\n",
      "Loading models\n",
      "{'particlewise_128_4_64': 'models/data100k_raw_combined_atlas_cut_particlewise_128_4_64', 'nested_concat_70_4_64_3': 'models/data100k_raw_combined_atlas_cut_nested_concat_70_4_64_3', 'nested_concat_general_68_3_64_3': 'models/data100k_raw_combined_atlas_cut_nested_concat_general_68_3_64_3', 'tripletwise_5_(64, 128, 256, 128, 64)_64': 'models/data100k_raw_combined_atlas_cut_tripletwise_5_(64, 128, 256, 128, 64)_64', 'pairwise_5_(64, 128, 256, 128, 64)_64': 'models/data100k_raw_combined_atlas_cut_pairwise_5_(64, 128, 256, 128, 64)_64', 'pairwise_nl_5_(64, 128, 256, 128, 64)_32_64': 'models/data100k_raw_combined_atlas_cut_pairwise_nl_5_(64, 128, 256, 128, 64)_32_64', 'pairwise_nl_iter_5_((64, 64, 116, 64, 64), (64, 64, 116, 64, 64), (64, 64, 116, 64, 64))_32_64': 'models/data100k_raw_combined_atlas_cut_pairwise_nl_iter_5_((64, 64, 116, 64, 64), (64, 64, 116, 64, 64), (64, 64, 116, 64, 64))_32_64', 'naivednn_256_3_2': 'models/data100k_raw_combined_atlas_cut_naivednn_256_3_2', 'dnn_256_3_2': 'models/data100k_raw_combined_atlas_cut_dnn_256_3_2'}\n",
      "Loaded particlewise_128_4_64 from models/data100k_raw_combined_atlas_cut_particlewise_128_4_64\n",
      "Loaded nested_concat_70_4_64_3 from models/data100k_raw_combined_atlas_cut_nested_concat_70_4_64_3\n",
      "Loaded nested_concat_general_68_3_64_3 from models/data100k_raw_combined_atlas_cut_nested_concat_general_68_3_64_3\n",
      "Loaded tripletwise_5_(64, 128, 256, 128, 64)_64 from models/data100k_raw_combined_atlas_cut_tripletwise_5_(64, 128, 256, 128, 64)_64\n",
      "Loaded pairwise_5_(64, 128, 256, 128, 64)_64 from models/data100k_raw_combined_atlas_cut_pairwise_5_(64, 128, 256, 128, 64)_64\n",
      "Loaded pairwise_nl_5_(64, 128, 256, 128, 64)_32_64 from models/data100k_raw_combined_atlas_cut_pairwise_nl_5_(64, 128, 256, 128, 64)_32_64\n",
      "Loaded pairwise_nl_iter_5_((64, 64, 116, 64, 64), (64, 64, 116, 64, 64), (64, 64, 116, 64, 64))_32_64 from models/data100k_raw_combined_atlas_cut_pairwise_nl_iter_5_((64, 64, 116, 64, 64), (64, 64, 116, 64, 64), (64, 64, 116, 64, 64))_32_64\n",
      "Loaded naivednn_256_3_2 from models/data100k_raw_combined_atlas_cut_naivednn_256_3_2\n",
      "Loaded dnn_256_3_2 from models/data100k_raw_combined_atlas_cut_dnn_256_3_2\n",
      "Initializing Experimenter\n",
      "\tLoading Data from ../data/data100k_raw_combined_atlas_cut.pkl\n",
      "\tData Loaded\n",
      "\tCreating Splits\n",
      "\tSplits Created\n",
      "Done initalizing\n",
      "Loading Experimenter from Saved Experimenter at /data/delon/experimenter/data100k_raw_combined_atlas_cutlatent28\n",
      "Experimenter Loaded\n",
      "Getting split\n",
      "Split Stored\n",
      "Loading models\n",
      "{'latent_two_5_(64, 128, 256, 128, 2)_64': 'models/data100k_raw_combined_atlas_cut_latent_two_5_(64, 128, 256, 128, 2)_64latent28', 'latent_eight_5_(64, 128, 256, 128, 8)_64': 'models/data100k_raw_combined_atlas_cut_latent_eight_5_(64, 128, 256, 128, 8)_64latent28'}\n",
      "Loaded latent_two_5_(64, 128, 256, 128, 2)_64 from models/data100k_raw_combined_atlas_cut_latent_two_5_(64, 128, 256, 128, 2)_64latent28\n",
      "Loaded latent_eight_5_(64, 128, 256, 128, 8)_64 from models/data100k_raw_combined_atlas_cut_latent_eight_5_(64, 128, 256, 128, 8)_64latent28\n"
     ]
    },
    {
     "name": "stderr",
     "output_type": "stream",
     "text": [
      "2022-07-12 18:01:42.632710: W tensorflow/stream_executor/platform/default/dso_loader.cc:64] Could not load dynamic library 'libcuda.so.1'; dlerror: libcuda.so.1: cannot open shared object file: No such file or directory\n",
      "2022-07-12 18:01:42.632768: W tensorflow/stream_executor/cuda/cuda_driver.cc:326] failed call to cuInit: UNKNOWN ERROR (303)\n",
      "2022-07-12 18:01:42.632819: I tensorflow/stream_executor/cuda/cuda_diagnostics.cc:156] kernel driver does not appear to be running on this host (top1.hep.utexas.edu): /proc/driver/nvidia/version does not exist\n",
      "2022-07-12 18:01:42.633361: I tensorflow/core/platform/cpu_feature_guard.cc:142] This TensorFlow binary is optimized with oneAPI Deep Neural Network Library (oneDNN) to use the following CPU instructions in performance-critical operations:  AVX2 FMA\n",
      "To enable them in other operations, rebuild TensorFlow with the appropriate compiler flags.\n"
     ]
    }
   ],
   "source": [
    "import seaborn as sns\n",
    "import os\n",
    "\n",
    "#to get latex to work \n",
    "os.environ['PATH'] = \"%s:/usr/local/cuda-11.2/bin:/usr/local/bin:/usr/bin:/usr/local/sbin:/usr/sbin:/opt/anaconda/bin:/home/delon/texlive/bin/x86_64-linux:/home/delon/.local/bin:/home/delon/bin\"%os.environ['PATH']\n",
    "\n",
    "\n",
    "PIl64 = experiment.Experimenter(filename)\n",
    "PIl64.fromSaved()\n",
    "\n",
    "PI = experiment.Experimenter(filename)\n",
    "PI.fromSaved(suffix=SUFFIX)"
   ]
  },
  {
   "cell_type": "code",
   "execution_count": 4,
   "metadata": {},
   "outputs": [],
   "source": [
    "latent64 = PIl64.models['%s_%s'%('pairwise', PIl64.get_tail_string(model_params_dict['pairwise']))]\n",
    "latent2 = PI.models['latent_two_5_(64, 128, 256, 128, 2)_64']\n",
    "latent8 = PI.models['latent_eight_5_(64, 128, 256, 128, 8)_64']"
   ]
  },
  {
   "cell_type": "code",
   "execution_count": 5,
   "metadata": {},
   "outputs": [
    {
     "name": "stdout",
     "output_type": "stream",
     "text": [
      "getting ROC for latent_two\n",
      "currently on latent_two_5_(64, 128, 256, 128, 2)_64\n"
     ]
    },
    {
     "data": {
      "text/plain": [
       "(array([0.        , 0.        , 0.        , ..., 0.97726361, 0.97733048,\n",
       "        1.        ]),\n",
       " array([0.00000000e+00, 3.32314236e-05, 4.95148212e-03, ...,\n",
       "        1.00000000e+00, 1.00000000e+00, 1.00000000e+00]),\n",
       " array([1.99984789e+00, 9.99847889e-01, 9.98715162e-01, ...,\n",
       "        2.19616995e-05, 2.18937785e-05, 1.10760304e-10], dtype=float32),\n",
       " 0.9602683074566158)"
      ]
     },
     "execution_count": 5,
     "metadata": {},
     "output_type": "execute_result"
    },
    {
     "name": "stderr",
     "output_type": "stream",
     "text": [
      "2022-07-12 18:02:28.936670: I tensorflow/compiler/mlir/mlir_graph_optimization_pass.cc:176] None of the MLIR Optimization Passes are enabled (registered 2)\n",
      "2022-07-12 18:02:28.937705: I tensorflow/core/platform/profile_utils/cpu_utils.cc:114] CPU Frequency: 2397305000 Hz\n"
     ]
    }
   ],
   "source": [
    "PI.get_ROC('latent_two', model_params_dict['latent_two'])"
   ]
  },
  {
   "cell_type": "code",
   "execution_count": 6,
   "metadata": {},
   "outputs": [],
   "source": [
    "X_test_latent, y_test_latent = PI.get_test_dataset('latent_two')\n",
    "X_test, y_test = PIl64.get_test_dataset('pairwise')\n",
    "X_test_ATLAS, y_test_ATLAS = gen_dataset_high_level(PIl64.events_test, PIl64.events_oup_test, PIl64.events_tag_test)"
   ]
  },
  {
   "cell_type": "code",
   "execution_count": 7,
   "metadata": {},
   "outputs": [],
   "source": [
    "n_cut = int(len(X_test)*0.1)\n",
    "assert(len(X_test) == len(X_test_latent))\n",
    "\n",
    "indices = np.random.permutation(len(X_test))\n",
    "cut = np.s_[indices[:n_cut]]\n",
    "\n",
    "latent_label = y_test.numpy()[cut]\n",
    "latent_label_28 = y_test_latent.numpy()[cut]"
   ]
  },
  {
   "cell_type": "code",
   "execution_count": 8,
   "metadata": {},
   "outputs": [
    {
     "name": "stdout",
     "output_type": "stream",
     "text": [
      "computing tsne\n",
      "--------------------------------------------------------------------------------\n",
      "TSNE(n_jobs=-1, verbose=True)\n",
      "--------------------------------------------------------------------------------\n",
      "===> Running optimization with exaggeration=12.00, lr=500.00 for 250 iterations...\n",
      "Iteration   50, KL divergence 2.2271, 50 iterations in 2.4540 sec\n",
      "Iteration  100, KL divergence 2.2299, 50 iterations in 2.1015 sec\n",
      "Iteration  150, KL divergence 2.2302, 50 iterations in 2.0918 sec\n",
      "Iteration  200, KL divergence 2.2298, 50 iterations in 2.0572 sec\n",
      "Iteration  250, KL divergence 2.2296, 50 iterations in 1.9699 sec\n",
      "   --> Time elapsed: 10.68 seconds\n",
      "===> Running optimization with exaggeration=1.00, lr=500.00 for 500 iterations...\n",
      "Iteration   50, KL divergence 1.3360, 50 iterations in 2.1843 sec\n",
      "Iteration  100, KL divergence 1.2402, 50 iterations in 2.1730 sec\n",
      "Iteration  150, KL divergence 1.2080, 50 iterations in 2.2257 sec\n",
      "Iteration  200, KL divergence 1.1928, 50 iterations in 2.1811 sec\n",
      "Iteration  250, KL divergence 1.1853, 50 iterations in 2.2231 sec\n",
      "Iteration  300, KL divergence 1.1810, 50 iterations in 2.2025 sec\n",
      "Iteration  350, KL divergence 1.1784, 50 iterations in 2.2041 sec\n",
      "Iteration  400, KL divergence 1.1769, 50 iterations in 2.2369 sec\n",
      "Iteration  450, KL divergence 1.1762, 50 iterations in 2.1318 sec\n",
      "Iteration  500, KL divergence 1.1756, 50 iterations in 2.1567 sec\n",
      "   --> Time elapsed: 21.92 seconds\n",
      "computing tsne\n",
      "--------------------------------------------------------------------------------\n",
      "TSNE(n_jobs=-1, verbose=True)\n",
      "--------------------------------------------------------------------------------\n",
      "===> Running optimization with exaggeration=12.00, lr=500.00 for 250 iterations...\n",
      "Iteration   50, KL divergence 2.1743, 50 iterations in 2.4630 sec\n",
      "Iteration  100, KL divergence 2.1793, 50 iterations in 2.3751 sec\n",
      "Iteration  150, KL divergence 2.1806, 50 iterations in 2.3994 sec\n",
      "Iteration  200, KL divergence 2.1805, 50 iterations in 2.1623 sec\n",
      "Iteration  250, KL divergence 2.1818, 50 iterations in 2.0691 sec\n",
      "   --> Time elapsed: 11.47 seconds\n",
      "===> Running optimization with exaggeration=1.00, lr=500.00 for 500 iterations...\n",
      "Iteration   50, KL divergence 0.9522, 50 iterations in 2.2689 sec\n",
      "Iteration  100, KL divergence 0.7140, 50 iterations in 2.2254 sec\n",
      "Iteration  150, KL divergence 0.6352, 50 iterations in 2.2518 sec\n",
      "Iteration  200, KL divergence 0.5963, 50 iterations in 2.2743 sec\n",
      "Iteration  250, KL divergence 0.5752, 50 iterations in 2.2125 sec\n",
      "Iteration  300, KL divergence 0.5620, 50 iterations in 2.2510 sec\n",
      "Iteration  350, KL divergence 0.5544, 50 iterations in 2.2201 sec\n",
      "Iteration  400, KL divergence 0.5491, 50 iterations in 2.2519 sec\n",
      "Iteration  450, KL divergence 0.5455, 50 iterations in 2.2104 sec\n",
      "Iteration  500, KL divergence 0.5431, 50 iterations in 2.2475 sec\n",
      "   --> Time elapsed: 22.42 seconds\n",
      "computing tsne\n",
      "--------------------------------------------------------------------------------\n",
      "TSNE(n_jobs=-1, verbose=True)\n",
      "--------------------------------------------------------------------------------\n",
      "===> Running optimization with exaggeration=12.00, lr=500.00 for 250 iterations...\n",
      "Iteration   50, KL divergence 2.3126, 50 iterations in 2.3977 sec\n",
      "Iteration  100, KL divergence 2.3335, 50 iterations in 2.3655 sec\n",
      "Iteration  150, KL divergence 2.3366, 50 iterations in 2.3243 sec\n",
      "Iteration  200, KL divergence 2.3378, 50 iterations in 2.0141 sec\n",
      "Iteration  250, KL divergence 2.3385, 50 iterations in 2.0483 sec\n",
      "   --> Time elapsed: 11.15 seconds\n",
      "===> Running optimization with exaggeration=1.00, lr=500.00 for 500 iterations...\n",
      "Iteration   50, KL divergence 1.1171, 50 iterations in 2.2694 sec\n",
      "Iteration  100, KL divergence 0.9720, 50 iterations in 2.2850 sec\n",
      "Iteration  150, KL divergence 0.9222, 50 iterations in 2.3061 sec\n",
      "Iteration  200, KL divergence 0.8964, 50 iterations in 2.2365 sec\n",
      "Iteration  250, KL divergence 0.8814, 50 iterations in 2.2615 sec\n",
      "Iteration  300, KL divergence 0.8733, 50 iterations in 2.2447 sec\n",
      "Iteration  350, KL divergence 0.8685, 50 iterations in 2.3044 sec\n",
      "Iteration  400, KL divergence 0.8655, 50 iterations in 2.2254 sec\n",
      "Iteration  450, KL divergence 0.8640, 50 iterations in 2.3629 sec\n",
      "Iteration  500, KL divergence 0.8630, 50 iterations in 2.2238 sec\n",
      "   --> Time elapsed: 22.72 seconds\n"
     ]
    }
   ],
   "source": [
    "latent64_embedded = compute_tsne(latent64, X_test=X_test, cut=cut)\n",
    "ATLAS_embedded = compute_tsne_embedded(np.array(X_test_ATLAS)[cut])\n",
    "latent8_embedded = compute_tsne(latent8, cut=cut, X_test=X_test_latent)"
   ]
  },
  {
   "cell_type": "code",
   "execution_count": 9,
   "metadata": {},
   "outputs": [
    {
     "name": "stdout",
     "output_type": "stream",
     "text": [
      "computing tsne\n",
      "--------------------------------------------------------------------------------\n",
      "TSNE(n_jobs=-1, verbose=True)\n",
      "--------------------------------------------------------------------------------\n",
      "===> Running optimization with exaggeration=12.00, lr=500.00 for 250 iterations...\n",
      "Iteration   50, KL divergence 2.0545, 50 iterations in 2.3436 sec\n",
      "Iteration  100, KL divergence 2.0028, 50 iterations in 2.3533 sec\n",
      "Iteration  150, KL divergence 2.0028, 50 iterations in 2.3878 sec\n",
      "Iteration  200, KL divergence 2.0028, 50 iterations in 2.4259 sec\n",
      "Iteration  250, KL divergence 2.0028, 50 iterations in 2.4992 sec\n",
      "   --> Time elapsed: 12.01 seconds\n",
      "===> Running optimization with exaggeration=1.00, lr=500.00 for 500 iterations...\n",
      "Iteration   50, KL divergence 0.6195, 50 iterations in 2.3410 sec\n",
      "Iteration  100, KL divergence 0.3612, 50 iterations in 2.4629 sec\n",
      "Iteration  150, KL divergence 0.2621, 50 iterations in 2.4066 sec\n",
      "Iteration  200, KL divergence 0.2212, 50 iterations in 2.3758 sec\n",
      "Iteration  250, KL divergence 0.2002, 50 iterations in 2.4165 sec\n",
      "Iteration  300, KL divergence 0.1872, 50 iterations in 2.3815 sec\n",
      "Iteration  350, KL divergence 0.1794, 50 iterations in 2.3661 sec\n",
      "Iteration  400, KL divergence 0.1741, 50 iterations in 2.3899 sec\n",
      "Iteration  450, KL divergence 0.1704, 50 iterations in 2.4105 sec\n",
      "Iteration  500, KL divergence 0.1679, 50 iterations in 2.3822 sec\n",
      "   --> Time elapsed: 23.94 seconds\n"
     ]
    }
   ],
   "source": [
    "latent2_embedded = compute_tsne(latent2, cut=cut, X_test=X_test_latent)"
   ]
  },
  {
   "cell_type": "code",
   "execution_count": 10,
   "metadata": {},
   "outputs": [
    {
     "data": {
      "image/png": "[encoded data removed]",
      "text/html": [
       "<div style=\"vertical-align: middle;\"><strong>seaborn_cubehelix</strong> </div><div class=\"cmap\"><img alt=\"seaborn_cubehelix colormap\" title=\"seaborn_cubehelix\" style=\"border: 1px solid #555;\" src=\"data:image/png;base64,iVBORw0KGgoAAAANSUhEUgAAAgAAAABACAYAAABsv8+/AAAAIHRFWHRUaXRsZQBzZWFib3JuX2N1YmVoZWxpeCBjb2xvcm1hcCHoIPcAAAAmdEVYdERlc2NyaXB0aW9uAHNlYWJvcm5fY3ViZWhlbGl4IGNvbG9ybWFwGlvH/wAAADB0RVh0QXV0aG9yAE1hdHBsb3RsaWIgdjMuNS4yLCBodHRwczovL21hdHBsb3RsaWIub3Jnwlp4nAAAADJ0RVh0U29mdHdhcmUATWF0cGxvdGxpYiB2My41LjIsIGh0dHBzOi8vbWF0cGxvdGxpYi5vcmfs/Oe7AAACEUlEQVR4nO3WsVLDMBBFUcH/fy0VNBIF2IxXVuyE8p3TQMJGXjszzH37+vwYrbXWxvajH35uRh/bL2Xu+P4+v72ezl3N1/N/P9ePc/W81eu6x7z/eDi/n9uv9i3X7+P496u9+7N71Lm6xyh7rJ5fnbs4/+W58vfN4rxR73fau7xezpX5y++lHc+rn7+4zzpX95v2Xpz7d/1yvTo33ddqvry/X+fe/Orc1h/PLe+vzi33+Oe5N5/H/nXW7+nFPfqTe/Rtbrrecf7uufPc+V7rPcbp+/U+p8+t9mh1j/PnV8/pt/fY5s/vbzq33Od8bns4tzz/n3PTHhdzox3/r6+f3+p5/Hz+vQEAcQQAAAQSAAAQSAAAQCABAACBBAAABBIAABBIAABAIAEAAIEEAAAEEgAAEEgAAEAgAQAAgQQAAAQSAAAQSAAAQCABAACBBAAABBIAABBIAABAIAEAAIEEAAAEEgAAEEgAAEAgAQAAgQQAAAQSAAAQSAAAQCABAACBBAAABBIAABBIAABAIAEAAIEEAAAEEgAAEEgAAEAgAQAAgQQAAAQSAAAQSAAAQCABAACBBAAABBIAABBIAABAIAEAAIEEAAAEEgAAEEgAAEAgAQAAgQQAAAQSAAAQSAAAQCABAACBBAAABBIAABBIAABAIAEAAIEEAAAEEgAAEEgAAEAgAQAAgQQAAAQSAAAQ6BtRSRMjAWeQawAAAABJRU5ErkJggg==\"></div><div style=\"vertical-align: middle; max-width: 514px; display: flex; justify-content: space-between;\"><div style=\"float: left;\"><div title=\"#faf8f3ff\" style=\"display: inline-block; width: 1em; height: 1em; margin: 0; vertical-align: middle; border: 1px solid #555; background-color: #faf8f3ff;\"></div> under</div><div style=\"margin: 0 auto; display: inline-block;\">bad <div title=\"#00000000\" style=\"display: inline-block; width: 1em; height: 1em; margin: 0; vertical-align: middle; border: 1px solid #555; background-color: #00000000;\"></div></div><div style=\"float: right;\">over <div title=\"#351b38ff\" style=\"display: inline-block; width: 1em; height: 1em; margin: 0; vertical-align: middle; border: 1px solid #555; background-color: #351b38ff;\"></div></div>"
      ],
      "text/plain": [
       "<matplotlib.colors.ListedColormap at 0x7fa5f43434f0>"
      ]
     },
     "execution_count": 10,
     "metadata": {},
     "output_type": "execute_result"
    }
   ],
   "source": [
    "sns.cubehelix_palette(start=2/10, light=.97, as_cmap=True)"
   ]
  },
  {
   "cell_type": "code",
   "execution_count": null,
   "metadata": {},
   "outputs": [
    {
     "name": "stdout",
     "output_type": "stream",
     "text": [
      "[2.27373675e-16 5.63697237e-16] [16.50196956 11.96955512]\n",
      "0.9897723523589574\n",
      "earth_movers_distance 1.2621150339177813\n"
     ]
    }
   ],
   "source": [
    "axATLAS = gen_tsne(ATLAS_embedded, latent_label, text=r'\\textbf{ATLAS Features}',\n",
    "                   cmap = sns.cubehelix_palette(start=2/10, light=.97, as_cmap=True), col_aux='#f49595')\n",
    "axATLAS.savefig('figures/ATLAS_tsne.pdf')"
   ]
  },
  {
   "cell_type": "code",
   "execution_count": null,
   "metadata": {
    "scrolled": false
   },
   "outputs": [],
   "source": [
    "ax = gen_tsne(latent2_embedded, latent_label_28, text=r'{Pairwise Architecture with} \\boldmath$\\mathbf{\\ell=2^1}$',\n",
    "             cmap=sns.cubehelix_palette(start=14/10, light=.97, as_cmap=True), col_aux='#95f4b7')\n",
    "ax.savefig('figures/l2_tsne.pdf')"
   ]
  },
  {
   "cell_type": "code",
   "execution_count": null,
   "metadata": {
    "scrolled": false
   },
   "outputs": [],
   "source": [
    "ax = gen_tsne(latent8_embedded, latent_label_28, text=r'{Pairwise Architecture with} \\boldmath$\\mathbf{\\ell=2^3}$',\n",
    "              cmap=sns.cubehelix_palette(start=20/10, light=.97, as_cmap=True), col_aux='#95b3f4')\n",
    "ax.savefig('figures/l8_tsne.pdf')"
   ]
  },
  {
   "cell_type": "code",
   "execution_count": null,
   "metadata": {},
   "outputs": [],
   "source": [
    "axl64 = gen_tsne(latent64_embedded, latent_label, text=r'{Pairwise Architecture with} \\boldmath$\\mathbf{\\ell=2^6}$ ',\n",
    "                )\n",
    "axl64.savefig('figures/l64_tsne.pdf')"
   ]
  },
  {
   "cell_type": "code",
   "execution_count": null,
   "metadata": {},
   "outputs": [],
   "source": []
  },
  {
   "cell_type": "code",
   "execution_count": null,
   "metadata": {
    "scrolled": false
   },
   "outputs": [],
   "source": [
    "l2_yhat = LatentGetter(latent2.layers[0:3], condensed=True).predict(X_test_latent.numpy()[cut])\n",
    "no_tsne= gen_tsne(l2_yhat, y_test_latent.numpy()[cut], text=r'Latent Represetations',\n",
    "                  cmap=sns.cubehelix_palette(start=14/10, light=.97, as_cmap=True, hue=0), col_aux='#737373',\n",
    "                  EMD=False,\n",
    "         rotated=True, log=False, bnds=True, standardized=False)\n",
    "no_tsne.savefig('figures/l2_notsne.pdf')"
   ]
  },
  {
   "cell_type": "code",
   "execution_count": null,
   "metadata": {},
   "outputs": [],
   "source": [
    "ax = gen_tsne(latent2_embedded, latent_label_28, text=r'\\textbf{t-SNE Embedding} of Latent Represetations',\n",
    "             cmap=sns.cubehelix_palette(start=14/10, light=.97, as_cmap=True), col_aux='#95f4b7',\n",
    "              EMD=False)\n",
    "ax.savefig('figures/l2_tsne_waxis.pdf')"
   ]
  },
  {
   "cell_type": "code",
   "execution_count": null,
   "metadata": {},
   "outputs": [],
   "source": [
    "l64_yhat = LatentGetter(latent64.layers[0:3], condensed=True).predict(X_test.numpy()[cut])\n",
    "print(emd(l64_yhat, y_test.numpy()[cut]))"
   ]
  },
  {
   "cell_type": "code",
   "execution_count": null,
   "metadata": {},
   "outputs": [],
   "source": [
    "l8_yhat = LatentGetter(latent8.layers[0:3], condensed=True).predict(X_test_latent.numpy()[cut])\n",
    "print(emd(l8_yhat, y_test_latent.numpy()[cut]))"
   ]
  },
  {
   "cell_type": "code",
   "execution_count": null,
   "metadata": {},
   "outputs": [],
   "source": [
    "l2_yhat = LatentGetter(latent2.layers[0:3], condensed=True).predict(X_test_latent.numpy()[cut])\n",
    "print(emd(l2_yhat, y_test_latent.numpy()[cut]))"
   ]
  },
  {
   "cell_type": "code",
   "execution_count": null,
   "metadata": {},
   "outputs": [],
   "source": [
    "print(emd(np.array(X_test_ATLAS), y_test_ATLAS))"
   ]
  },
  {
   "cell_type": "code",
   "execution_count": null,
   "metadata": {},
   "outputs": [],
   "source": [
    "TEMP_gen_tsne(latent64_embedded, latent_label, text=r'{Pairwise Architecture with} \\boldmath$\\mathbf{\\ell=2^6}$ ',)"
   ]
  },
  {
   "cell_type": "code",
   "execution_count": null,
   "metadata": {},
   "outputs": [],
   "source": [
    "TEMP_gen_tsne(latent8_embedded, latent_label, text=r'{Pairwise Architecture with} \\boldmath$\\mathbf{\\ell=2^6}$ ',)"
   ]
  },
  {
   "cell_type": "code",
   "execution_count": null,
   "metadata": {},
   "outputs": [],
   "source": [
    "TEMP_gen_tsne(latent2_embedded, latent_label, text=r'{Pairwise Architecture with} \\boldmath$\\mathbf{\\ell=2^6}$ ',)"
   ]
  },
  {
   "cell_type": "code",
   "execution_count": null,
   "metadata": {},
   "outputs": [],
   "source": [
    "TEMP_gen_tsne(ATLAS_embedded, latent_label, text=r'{Pairwise Architecture with} \\boldmath$\\mathbf{\\ell=2^6}$ ',)"
   ]
  },
  {
   "cell_type": "code",
   "execution_count": null,
   "metadata": {},
   "outputs": [],
   "source": []
  }
 ],
 "metadata": {
  "kernelspec": {
   "display_name": "pcec",
   "language": "python",
   "name": "pcec"
  },
  "language_info": {
   "codemirror_mode": {
    "name": "ipython",
    "version": 3
   },
   "file_extension": ".py",
   "mimetype": "text/x-python",
   "name": "python",
   "nbconvert_exporter": "python",
   "pygments_lexer": "ipython3",
   "version": "3.8.13"
  }
 },
 "nbformat": 4,
 "nbformat_minor": 2
}
